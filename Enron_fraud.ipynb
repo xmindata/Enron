{
 "cells": [
  {
   "cell_type": "markdown",
   "metadata": {},
   "source": [
    "# Enron fraud detect\n",
    "\n",
    "In this work we are going to use the Enron email and financial dataset to detect the person involved in the scandal.\n",
    "\n",
    "This is the project for  Udacity  Course **[Intro to Machine Learning](https://www.udacity.com/course/intro-to-machine-learning--ud120)**"
   ]
  },
  {
   "cell_type": "code",
   "execution_count": 1,
   "metadata": {},
   "outputs": [],
   "source": [
    "#!/usr/bin/python\n",
    "import sys\n",
    "import pickle\n",
    "import matplotlib.pyplot as plt\n",
    "import pandas as pd\n",
    "import numpy as np\n",
    "\n",
    "sys.path.append(\"../tools/\")"
   ]
  },
  {
   "cell_type": "markdown",
   "metadata": {},
   "source": [
    "### Load the dictionary containing the dataset\n",
    "\n",
    "Load the pkl data as dict file, then import the dict to pandas dataframe. "
   ]
  },
  {
   "cell_type": "code",
   "execution_count": 2,
   "metadata": {},
   "outputs": [],
   "source": [
    "data_dict = pickle.load(open(\"final_project_dataset.pkl\", \"r\") )\n",
    "\n",
    "###creating dataFrame from dictionary - pandas\n",
    "df = pd.DataFrame.from_dict(data_dict, orient='index', dtype=np.float)\n",
    " \n",
    "# print df.describe().loc[:,['salary','bonus']]"
   ]
  },
  {
   "cell_type": "code",
   "execution_count": 6,
   "metadata": {},
   "outputs": [
    {
     "data": {
      "text/html": [
       "<div>\n",
       "<table border=\"1\" class=\"dataframe\">\n",
       "  <thead>\n",
       "    <tr style=\"text-align: right;\">\n",
       "      <th></th>\n",
       "      <th>salary</th>\n",
       "      <th>to_messages</th>\n",
       "      <th>deferral_payments</th>\n",
       "      <th>total_payments</th>\n",
       "      <th>exercised_stock_options</th>\n",
       "      <th>bonus</th>\n",
       "      <th>restricted_stock</th>\n",
       "      <th>shared_receipt_with_poi</th>\n",
       "      <th>restricted_stock_deferred</th>\n",
       "      <th>total_stock_value</th>\n",
       "      <th>...</th>\n",
       "      <th>loan_advances</th>\n",
       "      <th>from_messages</th>\n",
       "      <th>other</th>\n",
       "      <th>from_this_person_to_poi</th>\n",
       "      <th>poi</th>\n",
       "      <th>director_fees</th>\n",
       "      <th>deferred_income</th>\n",
       "      <th>long_term_incentive</th>\n",
       "      <th>email_address</th>\n",
       "      <th>from_poi_to_this_person</th>\n",
       "    </tr>\n",
       "  </thead>\n",
       "  <tbody>\n",
       "    <tr>\n",
       "      <th>ALLEN PHILLIP K</th>\n",
       "      <td>201955.0</td>\n",
       "      <td>2902.0</td>\n",
       "      <td>2869717.0</td>\n",
       "      <td>4484442.0</td>\n",
       "      <td>1729541.0</td>\n",
       "      <td>4175000.0</td>\n",
       "      <td>126027.0</td>\n",
       "      <td>1407.0</td>\n",
       "      <td>-126027.0</td>\n",
       "      <td>1729541.0</td>\n",
       "      <td>...</td>\n",
       "      <td>NaN</td>\n",
       "      <td>2195.0</td>\n",
       "      <td>152.0</td>\n",
       "      <td>65.0</td>\n",
       "      <td>0.0</td>\n",
       "      <td>NaN</td>\n",
       "      <td>-3081055.0</td>\n",
       "      <td>304805.0</td>\n",
       "      <td>phillip.allen@enron.com</td>\n",
       "      <td>47.0</td>\n",
       "    </tr>\n",
       "    <tr>\n",
       "      <th>BADUM JAMES P</th>\n",
       "      <td>NaN</td>\n",
       "      <td>NaN</td>\n",
       "      <td>178980.0</td>\n",
       "      <td>182466.0</td>\n",
       "      <td>257817.0</td>\n",
       "      <td>NaN</td>\n",
       "      <td>NaN</td>\n",
       "      <td>NaN</td>\n",
       "      <td>NaN</td>\n",
       "      <td>257817.0</td>\n",
       "      <td>...</td>\n",
       "      <td>NaN</td>\n",
       "      <td>NaN</td>\n",
       "      <td>NaN</td>\n",
       "      <td>NaN</td>\n",
       "      <td>0.0</td>\n",
       "      <td>NaN</td>\n",
       "      <td>NaN</td>\n",
       "      <td>NaN</td>\n",
       "      <td>NaN</td>\n",
       "      <td>NaN</td>\n",
       "    </tr>\n",
       "    <tr>\n",
       "      <th>BANNANTINE JAMES M</th>\n",
       "      <td>477.0</td>\n",
       "      <td>566.0</td>\n",
       "      <td>NaN</td>\n",
       "      <td>916197.0</td>\n",
       "      <td>4046157.0</td>\n",
       "      <td>NaN</td>\n",
       "      <td>1757552.0</td>\n",
       "      <td>465.0</td>\n",
       "      <td>-560222.0</td>\n",
       "      <td>5243487.0</td>\n",
       "      <td>...</td>\n",
       "      <td>NaN</td>\n",
       "      <td>29.0</td>\n",
       "      <td>864523.0</td>\n",
       "      <td>0.0</td>\n",
       "      <td>0.0</td>\n",
       "      <td>NaN</td>\n",
       "      <td>-5104.0</td>\n",
       "      <td>NaN</td>\n",
       "      <td>james.bannantine@enron.com</td>\n",
       "      <td>39.0</td>\n",
       "    </tr>\n",
       "    <tr>\n",
       "      <th>BAXTER JOHN C</th>\n",
       "      <td>267102.0</td>\n",
       "      <td>NaN</td>\n",
       "      <td>1295738.0</td>\n",
       "      <td>5634343.0</td>\n",
       "      <td>6680544.0</td>\n",
       "      <td>1200000.0</td>\n",
       "      <td>3942714.0</td>\n",
       "      <td>NaN</td>\n",
       "      <td>NaN</td>\n",
       "      <td>10623258.0</td>\n",
       "      <td>...</td>\n",
       "      <td>NaN</td>\n",
       "      <td>NaN</td>\n",
       "      <td>2660303.0</td>\n",
       "      <td>NaN</td>\n",
       "      <td>0.0</td>\n",
       "      <td>NaN</td>\n",
       "      <td>-1386055.0</td>\n",
       "      <td>1586055.0</td>\n",
       "      <td>NaN</td>\n",
       "      <td>NaN</td>\n",
       "    </tr>\n",
       "    <tr>\n",
       "      <th>BAY FRANKLIN R</th>\n",
       "      <td>239671.0</td>\n",
       "      <td>NaN</td>\n",
       "      <td>260455.0</td>\n",
       "      <td>827696.0</td>\n",
       "      <td>NaN</td>\n",
       "      <td>400000.0</td>\n",
       "      <td>145796.0</td>\n",
       "      <td>NaN</td>\n",
       "      <td>-82782.0</td>\n",
       "      <td>63014.0</td>\n",
       "      <td>...</td>\n",
       "      <td>NaN</td>\n",
       "      <td>NaN</td>\n",
       "      <td>69.0</td>\n",
       "      <td>NaN</td>\n",
       "      <td>0.0</td>\n",
       "      <td>NaN</td>\n",
       "      <td>-201641.0</td>\n",
       "      <td>NaN</td>\n",
       "      <td>frank.bay@enron.com</td>\n",
       "      <td>NaN</td>\n",
       "    </tr>\n",
       "    <tr>\n",
       "      <th>BAZELIDES PHILIP J</th>\n",
       "      <td>80818.0</td>\n",
       "      <td>NaN</td>\n",
       "      <td>684694.0</td>\n",
       "      <td>860136.0</td>\n",
       "      <td>1599641.0</td>\n",
       "      <td>NaN</td>\n",
       "      <td>NaN</td>\n",
       "      <td>NaN</td>\n",
       "      <td>NaN</td>\n",
       "      <td>1599641.0</td>\n",
       "      <td>...</td>\n",
       "      <td>NaN</td>\n",
       "      <td>NaN</td>\n",
       "      <td>874.0</td>\n",
       "      <td>NaN</td>\n",
       "      <td>0.0</td>\n",
       "      <td>NaN</td>\n",
       "      <td>NaN</td>\n",
       "      <td>93750.0</td>\n",
       "      <td>NaN</td>\n",
       "      <td>NaN</td>\n",
       "    </tr>\n",
       "    <tr>\n",
       "      <th>BECK SALLY W</th>\n",
       "      <td>231330.0</td>\n",
       "      <td>7315.0</td>\n",
       "      <td>NaN</td>\n",
       "      <td>969068.0</td>\n",
       "      <td>NaN</td>\n",
       "      <td>700000.0</td>\n",
       "      <td>126027.0</td>\n",
       "      <td>2639.0</td>\n",
       "      <td>NaN</td>\n",
       "      <td>126027.0</td>\n",
       "      <td>...</td>\n",
       "      <td>NaN</td>\n",
       "      <td>4343.0</td>\n",
       "      <td>566.0</td>\n",
       "      <td>386.0</td>\n",
       "      <td>0.0</td>\n",
       "      <td>NaN</td>\n",
       "      <td>NaN</td>\n",
       "      <td>NaN</td>\n",
       "      <td>sally.beck@enron.com</td>\n",
       "      <td>144.0</td>\n",
       "    </tr>\n",
       "    <tr>\n",
       "      <th>BELDEN TIMOTHY N</th>\n",
       "      <td>213999.0</td>\n",
       "      <td>7991.0</td>\n",
       "      <td>2144013.0</td>\n",
       "      <td>5501630.0</td>\n",
       "      <td>953136.0</td>\n",
       "      <td>5249999.0</td>\n",
       "      <td>157569.0</td>\n",
       "      <td>5521.0</td>\n",
       "      <td>NaN</td>\n",
       "      <td>1110705.0</td>\n",
       "      <td>...</td>\n",
       "      <td>NaN</td>\n",
       "      <td>484.0</td>\n",
       "      <td>210698.0</td>\n",
       "      <td>108.0</td>\n",
       "      <td>1.0</td>\n",
       "      <td>NaN</td>\n",
       "      <td>-2334434.0</td>\n",
       "      <td>NaN</td>\n",
       "      <td>tim.belden@enron.com</td>\n",
       "      <td>228.0</td>\n",
       "    </tr>\n",
       "    <tr>\n",
       "      <th>BELFER ROBERT</th>\n",
       "      <td>NaN</td>\n",
       "      <td>NaN</td>\n",
       "      <td>-102500.0</td>\n",
       "      <td>102500.0</td>\n",
       "      <td>3285.0</td>\n",
       "      <td>NaN</td>\n",
       "      <td>NaN</td>\n",
       "      <td>NaN</td>\n",
       "      <td>44093.0</td>\n",
       "      <td>-44093.0</td>\n",
       "      <td>...</td>\n",
       "      <td>NaN</td>\n",
       "      <td>NaN</td>\n",
       "      <td>NaN</td>\n",
       "      <td>NaN</td>\n",
       "      <td>0.0</td>\n",
       "      <td>3285.0</td>\n",
       "      <td>NaN</td>\n",
       "      <td>NaN</td>\n",
       "      <td>NaN</td>\n",
       "      <td>NaN</td>\n",
       "    </tr>\n",
       "    <tr>\n",
       "      <th>BERBERIAN DAVID</th>\n",
       "      <td>216582.0</td>\n",
       "      <td>NaN</td>\n",
       "      <td>NaN</td>\n",
       "      <td>228474.0</td>\n",
       "      <td>1624396.0</td>\n",
       "      <td>NaN</td>\n",
       "      <td>869220.0</td>\n",
       "      <td>NaN</td>\n",
       "      <td>NaN</td>\n",
       "      <td>2493616.0</td>\n",
       "      <td>...</td>\n",
       "      <td>NaN</td>\n",
       "      <td>NaN</td>\n",
       "      <td>NaN</td>\n",
       "      <td>NaN</td>\n",
       "      <td>0.0</td>\n",
       "      <td>NaN</td>\n",
       "      <td>NaN</td>\n",
       "      <td>NaN</td>\n",
       "      <td>david.berberian@enron.com</td>\n",
       "      <td>NaN</td>\n",
       "    </tr>\n",
       "  </tbody>\n",
       "</table>\n",
       "<p>10 rows × 21 columns</p>\n",
       "</div>"
      ],
      "text/plain": [
       "                      salary  to_messages  deferral_payments  total_payments  \\\n",
       "ALLEN PHILLIP K     201955.0       2902.0          2869717.0       4484442.0   \n",
       "BADUM JAMES P            NaN          NaN           178980.0        182466.0   \n",
       "BANNANTINE JAMES M     477.0        566.0                NaN        916197.0   \n",
       "BAXTER JOHN C       267102.0          NaN          1295738.0       5634343.0   \n",
       "BAY FRANKLIN R      239671.0          NaN           260455.0        827696.0   \n",
       "BAZELIDES PHILIP J   80818.0          NaN           684694.0        860136.0   \n",
       "BECK SALLY W        231330.0       7315.0                NaN        969068.0   \n",
       "BELDEN TIMOTHY N    213999.0       7991.0          2144013.0       5501630.0   \n",
       "BELFER ROBERT            NaN          NaN          -102500.0        102500.0   \n",
       "BERBERIAN DAVID     216582.0          NaN                NaN        228474.0   \n",
       "\n",
       "                    exercised_stock_options      bonus  restricted_stock  \\\n",
       "ALLEN PHILLIP K                   1729541.0  4175000.0          126027.0   \n",
       "BADUM JAMES P                      257817.0        NaN               NaN   \n",
       "BANNANTINE JAMES M                4046157.0        NaN         1757552.0   \n",
       "BAXTER JOHN C                     6680544.0  1200000.0         3942714.0   \n",
       "BAY FRANKLIN R                          NaN   400000.0          145796.0   \n",
       "BAZELIDES PHILIP J                1599641.0        NaN               NaN   \n",
       "BECK SALLY W                            NaN   700000.0          126027.0   \n",
       "BELDEN TIMOTHY N                   953136.0  5249999.0          157569.0   \n",
       "BELFER ROBERT                        3285.0        NaN               NaN   \n",
       "BERBERIAN DAVID                   1624396.0        NaN          869220.0   \n",
       "\n",
       "                    shared_receipt_with_poi  restricted_stock_deferred  \\\n",
       "ALLEN PHILLIP K                      1407.0                  -126027.0   \n",
       "BADUM JAMES P                           NaN                        NaN   \n",
       "BANNANTINE JAMES M                    465.0                  -560222.0   \n",
       "BAXTER JOHN C                           NaN                        NaN   \n",
       "BAY FRANKLIN R                          NaN                   -82782.0   \n",
       "BAZELIDES PHILIP J                      NaN                        NaN   \n",
       "BECK SALLY W                         2639.0                        NaN   \n",
       "BELDEN TIMOTHY N                     5521.0                        NaN   \n",
       "BELFER ROBERT                           NaN                    44093.0   \n",
       "BERBERIAN DAVID                         NaN                        NaN   \n",
       "\n",
       "                    total_stock_value           ...            loan_advances  \\\n",
       "ALLEN PHILLIP K             1729541.0           ...                      NaN   \n",
       "BADUM JAMES P                257817.0           ...                      NaN   \n",
       "BANNANTINE JAMES M          5243487.0           ...                      NaN   \n",
       "BAXTER JOHN C              10623258.0           ...                      NaN   \n",
       "BAY FRANKLIN R                63014.0           ...                      NaN   \n",
       "BAZELIDES PHILIP J          1599641.0           ...                      NaN   \n",
       "BECK SALLY W                 126027.0           ...                      NaN   \n",
       "BELDEN TIMOTHY N            1110705.0           ...                      NaN   \n",
       "BELFER ROBERT                -44093.0           ...                      NaN   \n",
       "BERBERIAN DAVID             2493616.0           ...                      NaN   \n",
       "\n",
       "                    from_messages      other  from_this_person_to_poi  poi  \\\n",
       "ALLEN PHILLIP K            2195.0      152.0                     65.0  0.0   \n",
       "BADUM JAMES P                 NaN        NaN                      NaN  0.0   \n",
       "BANNANTINE JAMES M           29.0   864523.0                      0.0  0.0   \n",
       "BAXTER JOHN C                 NaN  2660303.0                      NaN  0.0   \n",
       "BAY FRANKLIN R                NaN       69.0                      NaN  0.0   \n",
       "BAZELIDES PHILIP J            NaN      874.0                      NaN  0.0   \n",
       "BECK SALLY W               4343.0      566.0                    386.0  0.0   \n",
       "BELDEN TIMOTHY N            484.0   210698.0                    108.0  1.0   \n",
       "BELFER ROBERT                 NaN        NaN                      NaN  0.0   \n",
       "BERBERIAN DAVID               NaN        NaN                      NaN  0.0   \n",
       "\n",
       "                    director_fees  deferred_income  long_term_incentive  \\\n",
       "ALLEN PHILLIP K               NaN       -3081055.0             304805.0   \n",
       "BADUM JAMES P                 NaN              NaN                  NaN   \n",
       "BANNANTINE JAMES M            NaN          -5104.0                  NaN   \n",
       "BAXTER JOHN C                 NaN       -1386055.0            1586055.0   \n",
       "BAY FRANKLIN R                NaN        -201641.0                  NaN   \n",
       "BAZELIDES PHILIP J            NaN              NaN              93750.0   \n",
       "BECK SALLY W                  NaN              NaN                  NaN   \n",
       "BELDEN TIMOTHY N              NaN       -2334434.0                  NaN   \n",
       "BELFER ROBERT              3285.0              NaN                  NaN   \n",
       "BERBERIAN DAVID               NaN              NaN                  NaN   \n",
       "\n",
       "                                 email_address from_poi_to_this_person  \n",
       "ALLEN PHILLIP K        phillip.allen@enron.com                    47.0  \n",
       "BADUM JAMES P                              NaN                     NaN  \n",
       "BANNANTINE JAMES M  james.bannantine@enron.com                    39.0  \n",
       "BAXTER JOHN C                              NaN                     NaN  \n",
       "BAY FRANKLIN R             frank.bay@enron.com                     NaN  \n",
       "BAZELIDES PHILIP J                         NaN                     NaN  \n",
       "BECK SALLY W              sally.beck@enron.com                   144.0  \n",
       "BELDEN TIMOTHY N          tim.belden@enron.com                   228.0  \n",
       "BELFER ROBERT                              NaN                     NaN  \n",
       "BERBERIAN DAVID      david.berberian@enron.com                     NaN  \n",
       "\n",
       "[10 rows x 21 columns]"
      ]
     },
     "execution_count": 6,
     "metadata": {},
     "output_type": "execute_result"
    }
   ],
   "source": [
    "df.head(10)"
   ]
  },
  {
   "cell_type": "code",
   "execution_count": 7,
   "metadata": {},
   "outputs": [
    {
     "name": "stdout",
     "output_type": "stream",
     "text": [
      "<class 'pandas.core.frame.DataFrame'>\n",
      "Index: 146 entries, ALLEN PHILLIP K to YEAP SOON\n",
      "Data columns (total 21 columns):\n",
      "salary                       95 non-null float64\n",
      "to_messages                  86 non-null float64\n",
      "deferral_payments            39 non-null float64\n",
      "total_payments               125 non-null float64\n",
      "exercised_stock_options      102 non-null float64\n",
      "bonus                        82 non-null float64\n",
      "restricted_stock             110 non-null float64\n",
      "shared_receipt_with_poi      86 non-null float64\n",
      "restricted_stock_deferred    18 non-null float64\n",
      "total_stock_value            126 non-null float64\n",
      "expenses                     95 non-null float64\n",
      "loan_advances                4 non-null float64\n",
      "from_messages                86 non-null float64\n",
      "other                        93 non-null float64\n",
      "from_this_person_to_poi      86 non-null float64\n",
      "poi                          146 non-null float64\n",
      "director_fees                17 non-null float64\n",
      "deferred_income              49 non-null float64\n",
      "long_term_incentive          66 non-null float64\n",
      "email_address                146 non-null object\n",
      "from_poi_to_this_person      86 non-null float64\n",
      "dtypes: float64(20), object(1)\n",
      "memory usage: 25.1+ KB\n"
     ]
    }
   ],
   "source": [
    "df.info()"
   ]
  },
  {
   "cell_type": "code",
   "execution_count": 8,
   "metadata": {},
   "outputs": [
    {
     "data": {
      "text/html": [
       "<div>\n",
       "<table border=\"1\" class=\"dataframe\">\n",
       "  <thead>\n",
       "    <tr style=\"text-align: right;\">\n",
       "      <th></th>\n",
       "      <th>salary</th>\n",
       "      <th>to_messages</th>\n",
       "      <th>deferral_payments</th>\n",
       "      <th>total_payments</th>\n",
       "      <th>exercised_stock_options</th>\n",
       "      <th>bonus</th>\n",
       "      <th>restricted_stock</th>\n",
       "      <th>shared_receipt_with_poi</th>\n",
       "      <th>restricted_stock_deferred</th>\n",
       "      <th>total_stock_value</th>\n",
       "      <th>expenses</th>\n",
       "      <th>loan_advances</th>\n",
       "      <th>from_messages</th>\n",
       "      <th>other</th>\n",
       "      <th>from_this_person_to_poi</th>\n",
       "      <th>poi</th>\n",
       "      <th>director_fees</th>\n",
       "      <th>deferred_income</th>\n",
       "      <th>long_term_incentive</th>\n",
       "      <th>from_poi_to_this_person</th>\n",
       "    </tr>\n",
       "  </thead>\n",
       "  <tbody>\n",
       "    <tr>\n",
       "      <th>count</th>\n",
       "      <td>9.500000e+01</td>\n",
       "      <td>86.000000</td>\n",
       "      <td>3.900000e+01</td>\n",
       "      <td>1.250000e+02</td>\n",
       "      <td>1.020000e+02</td>\n",
       "      <td>8.200000e+01</td>\n",
       "      <td>1.100000e+02</td>\n",
       "      <td>86.000000</td>\n",
       "      <td>1.800000e+01</td>\n",
       "      <td>1.260000e+02</td>\n",
       "      <td>9.500000e+01</td>\n",
       "      <td>4.000000e+00</td>\n",
       "      <td>86.000000</td>\n",
       "      <td>9.300000e+01</td>\n",
       "      <td>86.000000</td>\n",
       "      <td>146.000000</td>\n",
       "      <td>1.700000e+01</td>\n",
       "      <td>4.900000e+01</td>\n",
       "      <td>6.600000e+01</td>\n",
       "      <td>86.000000</td>\n",
       "    </tr>\n",
       "    <tr>\n",
       "      <th>mean</th>\n",
       "      <td>5.621943e+05</td>\n",
       "      <td>2073.860465</td>\n",
       "      <td>1.642674e+06</td>\n",
       "      <td>5.081526e+06</td>\n",
       "      <td>5.987054e+06</td>\n",
       "      <td>2.374235e+06</td>\n",
       "      <td>2.321741e+06</td>\n",
       "      <td>1176.465116</td>\n",
       "      <td>1.664106e+05</td>\n",
       "      <td>6.773957e+06</td>\n",
       "      <td>1.087289e+05</td>\n",
       "      <td>4.196250e+07</td>\n",
       "      <td>608.790698</td>\n",
       "      <td>9.190650e+05</td>\n",
       "      <td>41.232558</td>\n",
       "      <td>0.123288</td>\n",
       "      <td>1.668049e+05</td>\n",
       "      <td>-1.140475e+06</td>\n",
       "      <td>1.470361e+06</td>\n",
       "      <td>64.895349</td>\n",
       "    </tr>\n",
       "    <tr>\n",
       "      <th>std</th>\n",
       "      <td>2.716369e+06</td>\n",
       "      <td>2582.700981</td>\n",
       "      <td>5.161930e+06</td>\n",
       "      <td>2.906172e+07</td>\n",
       "      <td>3.106201e+07</td>\n",
       "      <td>1.071333e+07</td>\n",
       "      <td>1.251828e+07</td>\n",
       "      <td>1178.317641</td>\n",
       "      <td>4.201494e+06</td>\n",
       "      <td>3.895777e+07</td>\n",
       "      <td>5.335348e+05</td>\n",
       "      <td>4.708321e+07</td>\n",
       "      <td>1841.033949</td>\n",
       "      <td>4.589253e+06</td>\n",
       "      <td>100.073111</td>\n",
       "      <td>0.329899</td>\n",
       "      <td>3.198914e+05</td>\n",
       "      <td>4.025406e+06</td>\n",
       "      <td>5.942759e+06</td>\n",
       "      <td>86.979244</td>\n",
       "    </tr>\n",
       "    <tr>\n",
       "      <th>min</th>\n",
       "      <td>4.770000e+02</td>\n",
       "      <td>57.000000</td>\n",
       "      <td>-1.025000e+05</td>\n",
       "      <td>1.480000e+02</td>\n",
       "      <td>3.285000e+03</td>\n",
       "      <td>7.000000e+04</td>\n",
       "      <td>-2.604490e+06</td>\n",
       "      <td>2.000000</td>\n",
       "      <td>-7.576788e+06</td>\n",
       "      <td>-4.409300e+04</td>\n",
       "      <td>1.480000e+02</td>\n",
       "      <td>4.000000e+05</td>\n",
       "      <td>12.000000</td>\n",
       "      <td>2.000000e+00</td>\n",
       "      <td>0.000000</td>\n",
       "      <td>0.000000</td>\n",
       "      <td>3.285000e+03</td>\n",
       "      <td>-2.799289e+07</td>\n",
       "      <td>6.922300e+04</td>\n",
       "      <td>0.000000</td>\n",
       "    </tr>\n",
       "    <tr>\n",
       "      <th>25%</th>\n",
       "      <td>2.118160e+05</td>\n",
       "      <td>541.250000</td>\n",
       "      <td>8.157300e+04</td>\n",
       "      <td>3.944750e+05</td>\n",
       "      <td>5.278862e+05</td>\n",
       "      <td>4.312500e+05</td>\n",
       "      <td>2.540180e+05</td>\n",
       "      <td>249.750000</td>\n",
       "      <td>-3.896218e+05</td>\n",
       "      <td>4.945102e+05</td>\n",
       "      <td>2.261400e+04</td>\n",
       "      <td>1.600000e+06</td>\n",
       "      <td>22.750000</td>\n",
       "      <td>1.215000e+03</td>\n",
       "      <td>1.000000</td>\n",
       "      <td>0.000000</td>\n",
       "      <td>9.878400e+04</td>\n",
       "      <td>-6.948620e+05</td>\n",
       "      <td>2.812500e+05</td>\n",
       "      <td>10.000000</td>\n",
       "    </tr>\n",
       "    <tr>\n",
       "      <th>50%</th>\n",
       "      <td>2.599960e+05</td>\n",
       "      <td>1211.000000</td>\n",
       "      <td>2.274490e+05</td>\n",
       "      <td>1.101393e+06</td>\n",
       "      <td>1.310814e+06</td>\n",
       "      <td>7.693750e+05</td>\n",
       "      <td>4.517400e+05</td>\n",
       "      <td>740.500000</td>\n",
       "      <td>-1.469750e+05</td>\n",
       "      <td>1.102872e+06</td>\n",
       "      <td>4.695000e+04</td>\n",
       "      <td>4.176250e+07</td>\n",
       "      <td>41.000000</td>\n",
       "      <td>5.238200e+04</td>\n",
       "      <td>8.000000</td>\n",
       "      <td>0.000000</td>\n",
       "      <td>1.085790e+05</td>\n",
       "      <td>-1.597920e+05</td>\n",
       "      <td>4.420350e+05</td>\n",
       "      <td>35.000000</td>\n",
       "    </tr>\n",
       "    <tr>\n",
       "      <th>75%</th>\n",
       "      <td>3.121170e+05</td>\n",
       "      <td>2634.750000</td>\n",
       "      <td>1.002672e+06</td>\n",
       "      <td>2.093263e+06</td>\n",
       "      <td>2.547724e+06</td>\n",
       "      <td>1.200000e+06</td>\n",
       "      <td>1.002370e+06</td>\n",
       "      <td>1888.250000</td>\n",
       "      <td>-7.500975e+04</td>\n",
       "      <td>2.949847e+06</td>\n",
       "      <td>7.995250e+04</td>\n",
       "      <td>8.212500e+07</td>\n",
       "      <td>145.500000</td>\n",
       "      <td>3.620960e+05</td>\n",
       "      <td>24.750000</td>\n",
       "      <td>0.000000</td>\n",
       "      <td>1.137840e+05</td>\n",
       "      <td>-3.834600e+04</td>\n",
       "      <td>9.386720e+05</td>\n",
       "      <td>72.250000</td>\n",
       "    </tr>\n",
       "    <tr>\n",
       "      <th>max</th>\n",
       "      <td>2.670423e+07</td>\n",
       "      <td>15149.000000</td>\n",
       "      <td>3.208340e+07</td>\n",
       "      <td>3.098866e+08</td>\n",
       "      <td>3.117640e+08</td>\n",
       "      <td>9.734362e+07</td>\n",
       "      <td>1.303223e+08</td>\n",
       "      <td>5521.000000</td>\n",
       "      <td>1.545629e+07</td>\n",
       "      <td>4.345095e+08</td>\n",
       "      <td>5.235198e+06</td>\n",
       "      <td>8.392500e+07</td>\n",
       "      <td>14368.000000</td>\n",
       "      <td>4.266759e+07</td>\n",
       "      <td>609.000000</td>\n",
       "      <td>1.000000</td>\n",
       "      <td>1.398517e+06</td>\n",
       "      <td>-8.330000e+02</td>\n",
       "      <td>4.852193e+07</td>\n",
       "      <td>528.000000</td>\n",
       "    </tr>\n",
       "  </tbody>\n",
       "</table>\n",
       "</div>"
      ],
      "text/plain": [
       "             salary   to_messages  deferral_payments  total_payments  \\\n",
       "count  9.500000e+01     86.000000       3.900000e+01    1.250000e+02   \n",
       "mean   5.621943e+05   2073.860465       1.642674e+06    5.081526e+06   \n",
       "std    2.716369e+06   2582.700981       5.161930e+06    2.906172e+07   \n",
       "min    4.770000e+02     57.000000      -1.025000e+05    1.480000e+02   \n",
       "25%    2.118160e+05    541.250000       8.157300e+04    3.944750e+05   \n",
       "50%    2.599960e+05   1211.000000       2.274490e+05    1.101393e+06   \n",
       "75%    3.121170e+05   2634.750000       1.002672e+06    2.093263e+06   \n",
       "max    2.670423e+07  15149.000000       3.208340e+07    3.098866e+08   \n",
       "\n",
       "       exercised_stock_options         bonus  restricted_stock  \\\n",
       "count             1.020000e+02  8.200000e+01      1.100000e+02   \n",
       "mean              5.987054e+06  2.374235e+06      2.321741e+06   \n",
       "std               3.106201e+07  1.071333e+07      1.251828e+07   \n",
       "min               3.285000e+03  7.000000e+04     -2.604490e+06   \n",
       "25%               5.278862e+05  4.312500e+05      2.540180e+05   \n",
       "50%               1.310814e+06  7.693750e+05      4.517400e+05   \n",
       "75%               2.547724e+06  1.200000e+06      1.002370e+06   \n",
       "max               3.117640e+08  9.734362e+07      1.303223e+08   \n",
       "\n",
       "       shared_receipt_with_poi  restricted_stock_deferred  total_stock_value  \\\n",
       "count                86.000000               1.800000e+01       1.260000e+02   \n",
       "mean               1176.465116               1.664106e+05       6.773957e+06   \n",
       "std                1178.317641               4.201494e+06       3.895777e+07   \n",
       "min                   2.000000              -7.576788e+06      -4.409300e+04   \n",
       "25%                 249.750000              -3.896218e+05       4.945102e+05   \n",
       "50%                 740.500000              -1.469750e+05       1.102872e+06   \n",
       "75%                1888.250000              -7.500975e+04       2.949847e+06   \n",
       "max                5521.000000               1.545629e+07       4.345095e+08   \n",
       "\n",
       "           expenses  loan_advances  from_messages         other  \\\n",
       "count  9.500000e+01   4.000000e+00      86.000000  9.300000e+01   \n",
       "mean   1.087289e+05   4.196250e+07     608.790698  9.190650e+05   \n",
       "std    5.335348e+05   4.708321e+07    1841.033949  4.589253e+06   \n",
       "min    1.480000e+02   4.000000e+05      12.000000  2.000000e+00   \n",
       "25%    2.261400e+04   1.600000e+06      22.750000  1.215000e+03   \n",
       "50%    4.695000e+04   4.176250e+07      41.000000  5.238200e+04   \n",
       "75%    7.995250e+04   8.212500e+07     145.500000  3.620960e+05   \n",
       "max    5.235198e+06   8.392500e+07   14368.000000  4.266759e+07   \n",
       "\n",
       "       from_this_person_to_poi         poi  director_fees  deferred_income  \\\n",
       "count                86.000000  146.000000   1.700000e+01     4.900000e+01   \n",
       "mean                 41.232558    0.123288   1.668049e+05    -1.140475e+06   \n",
       "std                 100.073111    0.329899   3.198914e+05     4.025406e+06   \n",
       "min                   0.000000    0.000000   3.285000e+03    -2.799289e+07   \n",
       "25%                   1.000000    0.000000   9.878400e+04    -6.948620e+05   \n",
       "50%                   8.000000    0.000000   1.085790e+05    -1.597920e+05   \n",
       "75%                  24.750000    0.000000   1.137840e+05    -3.834600e+04   \n",
       "max                 609.000000    1.000000   1.398517e+06    -8.330000e+02   \n",
       "\n",
       "       long_term_incentive  from_poi_to_this_person  \n",
       "count         6.600000e+01                86.000000  \n",
       "mean          1.470361e+06                64.895349  \n",
       "std           5.942759e+06                86.979244  \n",
       "min           6.922300e+04                 0.000000  \n",
       "25%           2.812500e+05                10.000000  \n",
       "50%           4.420350e+05                35.000000  \n",
       "75%           9.386720e+05                72.250000  \n",
       "max           4.852193e+07               528.000000  "
      ]
     },
     "execution_count": 8,
     "metadata": {},
     "output_type": "execute_result"
    }
   ],
   "source": [
    "df.describe()"
   ]
  },
  {
   "cell_type": "markdown",
   "metadata": {},
   "source": [
    "Since we don't know which features might be more important,\n",
    "at the beginning we need to include all the features so as not to miss any important information.\n",
    "So Feature_list will have all the features from the dataset.\n",
    "Almost all the feature names are read from the data_dict when loading the data (in the following steps).\n",
    "However, here I would like to remove the \"email_address\",\n",
    "since it's a text and its information for the algorithm is not as important\n",
    "as the other numbers."
   ]
  },
  {
   "cell_type": "markdown",
   "metadata": {},
   "source": [
    "## 1: Feature selection\n",
    "\n",
    "Features_list is a list of strings, each of which is a feature name. ** The first feature must be \"poi\" **."
   ]
  },
  {
   "cell_type": "markdown",
   "metadata": {},
   "source": [
    "Since we don't know which features might be more important,\n",
    "at the beginning we need to include all the features so as not to miss any important information.\n",
    "So Feature_list will have all the features from the dataset.\n",
    "Almost all the feature names are read from the data_dict when loading the data (in the following steps).\n",
    "However, here I would like to remove the \"email_address\",\n",
    "since it's a text and its information for the algorithm is not as important\n",
    "as the other numbers."
   ]
  },
  {
   "cell_type": "code",
   "execution_count": 15,
   "metadata": {},
   "outputs": [
    {
     "name": "stdout",
     "output_type": "stream",
     "text": [
      "The Features: \n",
      "['poi', 'salary', 'to_messages', 'deferral_payments', 'total_payments', 'exercised_stock_options', 'bonus', 'restricted_stock', 'shared_receipt_with_poi', 'restricted_stock_deferred', 'total_stock_value', 'expenses', 'loan_advances', 'from_messages', 'other', 'from_this_person_to_poi', 'director_fees', 'deferred_income', 'long_term_incentive', 'from_poi_to_this_person']\n"
     ]
    }
   ],
   "source": [
    "features_list = ['poi']  + [feature for feature in df if feature != 'poi' and feature != 'email_address']\n",
    "df = df[features_list]\n",
    "print \"The Features: \"\n",
    "print features_list"
   ]
  },
  {
   "cell_type": "code",
   "execution_count": 14,
   "metadata": {},
   "outputs": [
    {
     "name": "stdout",
     "output_type": "stream",
     "text": [
      "poi\n",
      "salary\n",
      "to_messages\n",
      "deferral_payments\n",
      "total_payments\n",
      "exercised_stock_options\n",
      "bonus\n",
      "restricted_stock\n",
      "shared_receipt_with_poi\n",
      "restricted_stock_deferred\n",
      "total_stock_value\n",
      "expenses\n",
      "loan_advances\n",
      "from_messages\n",
      "other\n",
      "from_this_person_to_poi\n",
      "director_fees\n",
      "deferred_income\n",
      "long_term_incentive\n",
      "from_poi_to_this_person\n"
     ]
    }
   ],
   "source": [
    "for feature in df:\n",
    "    print feature "
   ]
  },
  {
   "cell_type": "markdown",
   "metadata": {},
   "source": [
    "After loading the data, we can read the data set to see what is included in the dictionary. "
   ]
  },
  {
   "cell_type": "code",
   "execution_count": 4,
   "metadata": {},
   "outputs": [
    {
     "name": "stdout",
     "output_type": "stream",
     "text": [
      "poi                                0.0\n",
      "salary                        201955.0\n",
      "to_messages                     2902.0\n",
      "deferral_payments            2869717.0\n",
      "total_payments               4484442.0\n",
      "exercised_stock_options      1729541.0\n",
      "bonus                        4175000.0\n",
      "restricted_stock              126027.0\n",
      "shared_receipt_with_poi         1407.0\n",
      "restricted_stock_deferred    -126027.0\n",
      "total_stock_value            1729541.0\n",
      "expenses                       13868.0\n",
      "loan_advances                      NaN\n",
      "from_messages                   2195.0\n",
      "other                            152.0\n",
      "from_this_person_to_poi           65.0\n",
      "director_fees                      NaN\n",
      "deferred_income             -3081055.0\n",
      "long_term_incentive           304805.0\n",
      "from_poi_to_this_person           47.0\n",
      "Name: ALLEN PHILLIP K, dtype: float64\n"
     ]
    }
   ],
   "source": [
    "print df.iloc[0]"
   ]
  },
  {
   "cell_type": "markdown",
   "metadata": {},
   "source": [
    "## 2: Exploratory analysis to remove outliers"
   ]
  },
  {
   "cell_type": "markdown",
   "metadata": {},
   "source": [
    "First let's define a plot function so taht we can visualize all the data by different feature."
   ]
  },
  {
   "cell_type": "markdown",
   "metadata": {},
   "source": [
    "By skimming at the data we can notice that \"THE TRAVEL AGENCY IN THE PARK\" and \"LOCKHART EUGENE E\" are the fake data. So we need to delete these two rows."
   ]
  },
  {
   "cell_type": "code",
   "execution_count": 16,
   "metadata": {
    "collapsed": true
   },
   "outputs": [],
   "source": [
    "df = df.drop('THE TRAVEL AGENCY IN THE PARK')\n",
    "df = df.drop('LOCKHART EUGENE E')"
   ]
  },
  {
   "cell_type": "code",
   "execution_count": 19,
   "metadata": {},
   "outputs": [
    {
     "name": "stdout",
     "output_type": "stream",
     "text": [
      "Populating the interactive namespace from numpy and matplotlib\n"
     ]
    }
   ],
   "source": [
    "import matplotlib.pyplot as plt\n",
    "%pylab inline\n",
    "\n",
    "def outlier_plt(feature_idx):\n",
    "    plt.title(features_list[feature_idx] + \" distribution\")\n",
    "    df[features_list[feature_idx]].plot.hist(bins = 50, alpha = 0.5)\n",
    "\n",
    "def print_outlier(feature_idx,cutoff):\n",
    "    print df[df[features_list[feature_idx]]>= cutoff]\n",
    "    print df[df[features_list[feature_idx]]>= cutoff].index\n",
    "    "
   ]
  },
  {
   "cell_type": "markdown",
   "metadata": {},
   "source": [
    "### Salary hist"
   ]
  },
  {
   "cell_type": "code",
   "execution_count": 20,
   "metadata": {},
   "outputs": [
    {
     "data": {
      "image/png": "[encoded data removed]",
      "text/plain": [
       "<matplotlib.figure.Figure at 0x10d9ad590>"
      ]
     },
     "metadata": {},
     "output_type": "display_data"
    }
   ],
   "source": [
    "outlier_plt(1)"
   ]
  },
  {
   "cell_type": "markdown",
   "metadata": {},
   "source": [
    "From the salary distribution plot, there is one obvious outlier which is much higher than the others. According to the axis, its value is higher than 0.5e7, so we can first print out the variables which has salary higher than 0.5e7"
   ]
  },
  {
   "cell_type": "code",
   "execution_count": 21,
   "metadata": {},
   "outputs": [
    {
     "name": "stdout",
     "output_type": "stream",
     "text": [
      "       poi      salary  to_messages  deferral_payments  total_payments  \\\n",
      "TOTAL  0.0  26704229.0          NaN         32083396.0     309886585.0   \n",
      "\n",
      "       exercised_stock_options       bonus  restricted_stock  \\\n",
      "TOTAL              311764000.0  97343619.0       130322299.0   \n",
      "\n",
      "       shared_receipt_with_poi  restricted_stock_deferred  total_stock_value  \\\n",
      "TOTAL                      NaN                 -7576788.0        434509511.0   \n",
      "\n",
      "        expenses  loan_advances  from_messages       other  \\\n",
      "TOTAL  5235198.0     83925000.0            NaN  42667589.0   \n",
      "\n",
      "       from_this_person_to_poi  director_fees  deferred_income  \\\n",
      "TOTAL                      NaN      1398517.0      -27992891.0   \n",
      "\n",
      "       long_term_incentive  from_poi_to_this_person  \n",
      "TOTAL           48521928.0                      NaN  \n",
      "Index([u'TOTAL'], dtype='object')\n"
     ]
    }
   ],
   "source": [
    "print df[df['salary']>= 0.5e7]\n",
    "print df[df['salary']>= 0.5e7].index"
   ]
  },
  {
   "cell_type": "code",
   "execution_count": 22,
   "metadata": {},
   "outputs": [],
   "source": [
    "df = df.drop('TOTAL')"
   ]
  },
  {
   "cell_type": "code",
   "execution_count": 23,
   "metadata": {},
   "outputs": [
    {
     "data": {
      "image/png": "[encoded data removed]",
      "text/plain": [
       "<matplotlib.figure.Figure at 0x10a2bbd10>"
      ]
     },
     "metadata": {},
     "output_type": "display_data"
    }
   ],
   "source": [
    "outlier_plt(1)"
   ]
  },
  {
   "cell_type": "markdown",
   "metadata": {},
   "source": [
    "There're still some values much higher than the others, let's print them out"
   ]
  },
  {
   "cell_type": "code",
   "execution_count": 24,
   "metadata": {},
   "outputs": [
    {
     "name": "stdout",
     "output_type": "stream",
     "text": [
      "                    poi     salary  to_messages  deferral_payments  \\\n",
      "FREVERT MARK A      0.0  1060932.0       3275.0          6426990.0   \n",
      "LAY KENNETH L       1.0  1072321.0       4273.0           202911.0   \n",
      "SKILLING JEFFREY K  1.0  1111258.0       3627.0                NaN   \n",
      "\n",
      "                    total_payments  exercised_stock_options      bonus  \\\n",
      "FREVERT MARK A          17252530.0               10433518.0  2000000.0   \n",
      "LAY KENNETH L          103559793.0               34348384.0  7000000.0   \n",
      "SKILLING JEFFREY K       8682716.0               19250000.0  5600000.0   \n",
      "\n",
      "                    restricted_stock  shared_receipt_with_poi  \\\n",
      "FREVERT MARK A             4188667.0                   2979.0   \n",
      "LAY KENNETH L             14761694.0                   2411.0   \n",
      "SKILLING JEFFREY K         6843672.0                   2042.0   \n",
      "\n",
      "                    restricted_stock_deferred  total_stock_value  expenses  \\\n",
      "FREVERT MARK A                            NaN         14622185.0   86987.0   \n",
      "LAY KENNETH L                             NaN         49110078.0   99832.0   \n",
      "SKILLING JEFFREY K                        NaN         26093672.0   29336.0   \n",
      "\n",
      "                    loan_advances  from_messages       other  \\\n",
      "FREVERT MARK A          2000000.0           21.0   7427621.0   \n",
      "LAY KENNETH L          81525000.0           36.0  10359729.0   \n",
      "SKILLING JEFFREY K            NaN          108.0     22122.0   \n",
      "\n",
      "                    from_this_person_to_poi  director_fees  deferred_income  \\\n",
      "FREVERT MARK A                          6.0            NaN       -3367011.0   \n",
      "LAY KENNETH L                          16.0            NaN        -300000.0   \n",
      "SKILLING JEFFREY K                     30.0            NaN              NaN   \n",
      "\n",
      "                    long_term_incentive  from_poi_to_this_person  \n",
      "FREVERT MARK A                1617011.0                    242.0  \n",
      "LAY KENNETH L                 3600000.0                    123.0  \n",
      "SKILLING JEFFREY K            1920000.0                     88.0  \n",
      "Index([u'FREVERT MARK A', u'LAY KENNETH L', u'SKILLING JEFFREY K'], dtype='object')\n"
     ]
    }
   ],
   "source": [
    "print df[df['salary']>= 8e5]\n",
    "print df[df['salary']>= 8e5].index"
   ]
  },
  {
   "cell_type": "markdown",
   "metadata": {},
   "source": [
    "Though these people have much higher salary than the others, they are actually the pois we are looking for. So for the salary distribution everything looks fine now."
   ]
  },
  {
   "cell_type": "markdown",
   "metadata": {},
   "source": [
    "### To_messages"
   ]
  },
  {
   "cell_type": "code",
   "execution_count": 25,
   "metadata": {},
   "outputs": [
    {
     "data": {
      "image/png": "[encoded data removed]",
      "text/plain": [
       "<matplotlib.figure.Figure at 0x10de00410>"
      ]
     },
     "metadata": {},
     "output_type": "display_data"
    }
   ],
   "source": [
    "outlier_plt(2)"
   ]
  },
  {
   "cell_type": "code",
   "execution_count": 26,
   "metadata": {},
   "outputs": [
    {
     "name": "stdout",
     "output_type": "stream",
     "text": [
      "                   poi    salary  to_messages  deferral_payments  \\\n",
      "KEAN STEVEN J      0.0  404338.0      12754.0                NaN   \n",
      "SHAPIRO RICHARD S  0.0  269076.0      15149.0                NaN   \n",
      "\n",
      "                   total_payments  exercised_stock_options      bonus  \\\n",
      "KEAN STEVEN J           1747522.0                2022048.0  1000000.0   \n",
      "SHAPIRO RICHARD S       1057548.0                 607837.0   650000.0   \n",
      "\n",
      "                   restricted_stock  shared_receipt_with_poi  \\\n",
      "KEAN STEVEN J             4131594.0                   3639.0   \n",
      "SHAPIRO RICHARD S          379164.0                   4527.0   \n",
      "\n",
      "                   restricted_stock_deferred  total_stock_value  expenses  \\\n",
      "KEAN STEVEN J                            NaN          6153642.0   41953.0   \n",
      "SHAPIRO RICHARD S                        NaN           987001.0  137767.0   \n",
      "\n",
      "                   loan_advances  from_messages   other  \\\n",
      "KEAN STEVEN J                NaN         6759.0  1231.0   \n",
      "SHAPIRO RICHARD S            NaN         1215.0   705.0   \n",
      "\n",
      "                   from_this_person_to_poi  director_fees  deferred_income  \\\n",
      "KEAN STEVEN J                        387.0            NaN              NaN   \n",
      "SHAPIRO RICHARD S                     65.0            NaN              NaN   \n",
      "\n",
      "                   long_term_incentive  from_poi_to_this_person  \n",
      "KEAN STEVEN J                 300000.0                    140.0  \n",
      "SHAPIRO RICHARD S                  NaN                     74.0  \n",
      "Index([u'KEAN STEVEN J', u'SHAPIRO RICHARD S'], dtype='object')\n"
     ]
    }
   ],
   "source": [
    "print_outlier(2,12000)"
   ]
  },
  {
   "cell_type": "code",
   "execution_count": 28,
   "metadata": {},
   "outputs": [
    {
     "name": "stdout",
     "output_type": "stream",
     "text": [
      "                poi     salary  to_messages  deferral_payments  \\\n",
      "FREVERT MARK A  0.0  1060932.0       3275.0          6426990.0   \n",
      "\n",
      "                total_payments  exercised_stock_options      bonus  \\\n",
      "FREVERT MARK A      17252530.0               10433518.0  2000000.0   \n",
      "\n",
      "                restricted_stock  shared_receipt_with_poi  \\\n",
      "FREVERT MARK A         4188667.0                   2979.0   \n",
      "\n",
      "                restricted_stock_deferred  total_stock_value  expenses  \\\n",
      "FREVERT MARK A                        NaN         14622185.0   86987.0   \n",
      "\n",
      "                loan_advances  from_messages      other  \\\n",
      "FREVERT MARK A      2000000.0           21.0  7427621.0   \n",
      "\n",
      "                from_this_person_to_poi  director_fees  deferred_income  \\\n",
      "FREVERT MARK A                      6.0            NaN       -3367011.0   \n",
      "\n",
      "                long_term_incentive  from_poi_to_this_person  \n",
      "FREVERT MARK A            1617011.0                    242.0  \n",
      "Index([u'FREVERT MARK A'], dtype='object')\n"
     ]
    },
    {
     "data": {
      "image/png": "[encoded data removed]",
      "text/plain": [
       "<matplotlib.figure.Figure at 0x10dcfcd90>"
      ]
     },
     "metadata": {},
     "output_type": "display_data"
    }
   ],
   "source": [
    "outlier_plt(3)\n",
    "print_outlier(3,4000000)"
   ]
  },
  {
   "cell_type": "markdown",
   "metadata": {},
   "source": [
    "Well, good job, Mr. FREVERT MARK. We can't do anything."
   ]
  },
  {
   "cell_type": "code",
   "execution_count": 30,
   "metadata": {},
   "outputs": [
    {
     "name": "stdout",
     "output_type": "stream",
     "text": [
      "               poi  salary  to_messages  deferral_payments  total_payments  \\\n",
      "BELFER ROBERT  0.0     NaN          NaN          -102500.0        102500.0   \n",
      "\n",
      "               exercised_stock_options  bonus  restricted_stock  \\\n",
      "BELFER ROBERT                   3285.0    NaN               NaN   \n",
      "\n",
      "               shared_receipt_with_poi  restricted_stock_deferred  \\\n",
      "BELFER ROBERT                      NaN                    44093.0   \n",
      "\n",
      "               total_stock_value  expenses  loan_advances  from_messages  \\\n",
      "BELFER ROBERT           -44093.0       NaN            NaN            NaN   \n",
      "\n",
      "               other  from_this_person_to_poi  director_fees  deferred_income  \\\n",
      "BELFER ROBERT    NaN                      NaN         3285.0              NaN   \n",
      "\n",
      "               long_term_incentive  from_poi_to_this_person  \n",
      "BELFER ROBERT                  NaN                      NaN  \n",
      "Index([u'BELFER ROBERT'], dtype='object')\n"
     ]
    }
   ],
   "source": [
    "print df[df['deferral_payments']<= 0]\n",
    "print df[df['deferral_payments']<= 0].index"
   ]
  },
  {
   "cell_type": "code",
   "execution_count": 31,
   "metadata": {},
   "outputs": [
    {
     "name": "stdout",
     "output_type": "stream",
     "text": [
      "               poi     salary  to_messages  deferral_payments  total_payments  \\\n",
      "LAY KENNETH L  1.0  1072321.0       4273.0           202911.0     103559793.0   \n",
      "\n",
      "               exercised_stock_options      bonus  restricted_stock  \\\n",
      "LAY KENNETH L               34348384.0  7000000.0        14761694.0   \n",
      "\n",
      "               shared_receipt_with_poi  restricted_stock_deferred  \\\n",
      "LAY KENNETH L                   2411.0                        NaN   \n",
      "\n",
      "               total_stock_value  expenses  loan_advances  from_messages  \\\n",
      "LAY KENNETH L         49110078.0   99832.0     81525000.0           36.0   \n",
      "\n",
      "                    other  from_this_person_to_poi  director_fees  \\\n",
      "LAY KENNETH L  10359729.0                     16.0            NaN   \n",
      "\n",
      "               deferred_income  long_term_incentive  from_poi_to_this_person  \n",
      "LAY KENNETH L        -300000.0            3600000.0                    123.0  \n",
      "Index([u'LAY KENNETH L'], dtype='object')\n"
     ]
    },
    {
     "data": {
      "image/png": "[encoded data removed]",
      "text/plain": [
       "<matplotlib.figure.Figure at 0x10e01e350>"
      ]
     },
     "metadata": {},
     "output_type": "display_data"
    }
   ],
   "source": [
    "outlier_plt(4)\n",
    "print_outlier(4,0.2e8)"
   ]
  },
  {
   "cell_type": "code",
   "execution_count": 32,
   "metadata": {},
   "outputs": [
    {
     "name": "stdout",
     "output_type": "stream",
     "text": [
      "                    poi     salary  to_messages  deferral_payments  \\\n",
      "HIRKO JOSEPH        1.0        NaN          NaN            10259.0   \n",
      "LAY KENNETH L       1.0  1072321.0       4273.0           202911.0   \n",
      "PAI LOU L           0.0   261879.0          NaN                NaN   \n",
      "RICE KENNETH D      1.0   420636.0        905.0                NaN   \n",
      "SKILLING JEFFREY K  1.0  1111258.0       3627.0                NaN   \n",
      "\n",
      "                    total_payments  exercised_stock_options      bonus  \\\n",
      "HIRKO JOSEPH               91093.0               30766064.0        NaN   \n",
      "LAY KENNETH L          103559793.0               34348384.0  7000000.0   \n",
      "PAI LOU L                3123383.0               15364167.0  1000000.0   \n",
      "RICE KENNETH D            505050.0               19794175.0  1750000.0   \n",
      "SKILLING JEFFREY K       8682716.0               19250000.0  5600000.0   \n",
      "\n",
      "                    restricted_stock  shared_receipt_with_poi  \\\n",
      "HIRKO JOSEPH                     NaN                      NaN   \n",
      "LAY KENNETH L             14761694.0                   2411.0   \n",
      "PAI LOU L                  8453763.0                      NaN   \n",
      "RICE KENNETH D             2748364.0                    864.0   \n",
      "SKILLING JEFFREY K         6843672.0                   2042.0   \n",
      "\n",
      "                    restricted_stock_deferred  total_stock_value  expenses  \\\n",
      "HIRKO JOSEPH                              NaN         30766064.0   77978.0   \n",
      "LAY KENNETH L                             NaN         49110078.0   99832.0   \n",
      "PAI LOU L                                 NaN         23817930.0   32047.0   \n",
      "RICE KENNETH D                            NaN         22542539.0   46950.0   \n",
      "SKILLING JEFFREY K                        NaN         26093672.0   29336.0   \n",
      "\n",
      "                    loan_advances  from_messages       other  \\\n",
      "HIRKO JOSEPH                  NaN            NaN      2856.0   \n",
      "LAY KENNETH L          81525000.0           36.0  10359729.0   \n",
      "PAI LOU L                     NaN            NaN   1829457.0   \n",
      "RICE KENNETH D                NaN           18.0    174839.0   \n",
      "SKILLING JEFFREY K            NaN          108.0     22122.0   \n",
      "\n",
      "                    from_this_person_to_poi  director_fees  deferred_income  \\\n",
      "HIRKO JOSEPH                            NaN            NaN              NaN   \n",
      "LAY KENNETH L                          16.0            NaN        -300000.0   \n",
      "PAI LOU L                               NaN            NaN              NaN   \n",
      "RICE KENNETH D                          4.0            NaN       -3504386.0   \n",
      "SKILLING JEFFREY K                     30.0            NaN              NaN   \n",
      "\n",
      "                    long_term_incentive  from_poi_to_this_person  \n",
      "HIRKO JOSEPH                        NaN                      NaN  \n",
      "LAY KENNETH L                 3600000.0                    123.0  \n",
      "PAI LOU L                           NaN                      NaN  \n",
      "RICE KENNETH D                1617011.0                     42.0  \n",
      "SKILLING JEFFREY K            1920000.0                     88.0  \n",
      "Index([u'HIRKO JOSEPH', u'LAY KENNETH L', u'PAI LOU L', u'RICE KENNETH D',\n",
      "       u'SKILLING JEFFREY K'],\n",
      "      dtype='object')\n"
     ]
    },
    {
     "data": {
      "image/png": "[encoded data removed]",
      "text/plain": [
       "<matplotlib.figure.Figure at 0x10de495d0>"
      ]
     },
     "metadata": {},
     "output_type": "display_data"
    }
   ],
   "source": [
    "outlier_plt(5)\n",
    "print_outlier(5,1.5e7)"
   ]
  },
  {
   "cell_type": "code",
   "execution_count": 33,
   "metadata": {},
   "outputs": [
    {
     "name": "stdout",
     "output_type": "stream",
     "text": [
      "                    poi     salary  to_messages  deferral_payments  \\\n",
      "BELDEN TIMOTHY N    1.0   213999.0       7991.0          2144013.0   \n",
      "LAVORATO JOHN J     0.0   339288.0       7259.0                NaN   \n",
      "LAY KENNETH L       1.0  1072321.0       4273.0           202911.0   \n",
      "SKILLING JEFFREY K  1.0  1111258.0       3627.0                NaN   \n",
      "\n",
      "                    total_payments  exercised_stock_options      bonus  \\\n",
      "BELDEN TIMOTHY N         5501630.0                 953136.0  5249999.0   \n",
      "LAVORATO JOHN J         10425757.0                4158995.0  8000000.0   \n",
      "LAY KENNETH L          103559793.0               34348384.0  7000000.0   \n",
      "SKILLING JEFFREY K       8682716.0               19250000.0  5600000.0   \n",
      "\n",
      "                    restricted_stock  shared_receipt_with_poi  \\\n",
      "BELDEN TIMOTHY N            157569.0                   5521.0   \n",
      "LAVORATO JOHN J            1008149.0                   3962.0   \n",
      "LAY KENNETH L             14761694.0                   2411.0   \n",
      "SKILLING JEFFREY K         6843672.0                   2042.0   \n",
      "\n",
      "                    restricted_stock_deferred  total_stock_value  expenses  \\\n",
      "BELDEN TIMOTHY N                          NaN          1110705.0   17355.0   \n",
      "LAVORATO JOHN J                           NaN          5167144.0   49537.0   \n",
      "LAY KENNETH L                             NaN         49110078.0   99832.0   \n",
      "SKILLING JEFFREY K                        NaN         26093672.0   29336.0   \n",
      "\n",
      "                    loan_advances  from_messages       other  \\\n",
      "BELDEN TIMOTHY N              NaN          484.0    210698.0   \n",
      "LAVORATO JOHN J               NaN         2585.0      1552.0   \n",
      "LAY KENNETH L          81525000.0           36.0  10359729.0   \n",
      "SKILLING JEFFREY K            NaN          108.0     22122.0   \n",
      "\n",
      "                    from_this_person_to_poi  director_fees  deferred_income  \\\n",
      "BELDEN TIMOTHY N                      108.0            NaN       -2334434.0   \n",
      "LAVORATO JOHN J                       411.0            NaN              NaN   \n",
      "LAY KENNETH L                          16.0            NaN        -300000.0   \n",
      "SKILLING JEFFREY K                     30.0            NaN              NaN   \n",
      "\n",
      "                    long_term_incentive  from_poi_to_this_person  \n",
      "BELDEN TIMOTHY N                    NaN                    228.0  \n",
      "LAVORATO JOHN J               2035380.0                    528.0  \n",
      "LAY KENNETH L                 3600000.0                    123.0  \n",
      "SKILLING JEFFREY K            1920000.0                     88.0  \n",
      "Index([u'BELDEN TIMOTHY N', u'LAVORATO JOHN J', u'LAY KENNETH L',\n",
      "       u'SKILLING JEFFREY K'],\n",
      "      dtype='object')\n"
     ]
    },
    {
     "data": {
      "image/png": "[encoded data removed]",
      "text/plain": [
       "<matplotlib.figure.Figure at 0x10e217890>"
      ]
     },
     "metadata": {},
     "output_type": "display_data"
    }
   ],
   "source": [
    "outlier_plt(6)\n",
    "print_outlier(6,5e6)"
   ]
  },
  {
   "cell_type": "code",
   "execution_count": 34,
   "metadata": {},
   "outputs": [
    {
     "name": "stdout",
     "output_type": "stream",
     "text": [
      "                   poi     salary  to_messages  deferral_payments  \\\n",
      "LAY KENNETH L      1.0  1072321.0       4273.0           202911.0   \n",
      "WHITE JR THOMAS E  0.0   317543.0          NaN                NaN   \n",
      "\n",
      "                   total_payments  exercised_stock_options      bonus  \\\n",
      "LAY KENNETH L         103559793.0               34348384.0  7000000.0   \n",
      "WHITE JR THOMAS E       1934359.0                1297049.0   450000.0   \n",
      "\n",
      "                   restricted_stock  shared_receipt_with_poi  \\\n",
      "LAY KENNETH L            14761694.0                   2411.0   \n",
      "WHITE JR THOMAS E        13847074.0                      NaN   \n",
      "\n",
      "                   restricted_stock_deferred  total_stock_value  expenses  \\\n",
      "LAY KENNETH L                            NaN         49110078.0   99832.0   \n",
      "WHITE JR THOMAS E                        NaN         15144123.0   81353.0   \n",
      "\n",
      "                   loan_advances  from_messages       other  \\\n",
      "LAY KENNETH L         81525000.0           36.0  10359729.0   \n",
      "WHITE JR THOMAS E            NaN            NaN   1085463.0   \n",
      "\n",
      "                   from_this_person_to_poi  director_fees  deferred_income  \\\n",
      "LAY KENNETH L                         16.0            NaN        -300000.0   \n",
      "WHITE JR THOMAS E                      NaN            NaN              NaN   \n",
      "\n",
      "                   long_term_incentive  from_poi_to_this_person  \n",
      "LAY KENNETH L                3600000.0                    123.0  \n",
      "WHITE JR THOMAS E                  NaN                      NaN  \n",
      "Index([u'LAY KENNETH L', u'WHITE JR THOMAS E'], dtype='object')\n",
      "                  poi  salary  to_messages  deferral_payments  total_payments  \\\n",
      "BHATNAGAR SANJAY  0.0     NaN        523.0                NaN      15456290.0   \n",
      "\n",
      "                  exercised_stock_options  bonus  restricted_stock  \\\n",
      "BHATNAGAR SANJAY                2604490.0    NaN        -2604490.0   \n",
      "\n",
      "                  shared_receipt_with_poi  restricted_stock_deferred  \\\n",
      "BHATNAGAR SANJAY                    463.0                 15456290.0   \n",
      "\n",
      "                  total_stock_value  expenses  loan_advances  from_messages  \\\n",
      "BHATNAGAR SANJAY                NaN       NaN            NaN           29.0   \n",
      "\n",
      "                     other  from_this_person_to_poi  director_fees  \\\n",
      "BHATNAGAR SANJAY  137864.0                      1.0       137864.0   \n",
      "\n",
      "                  deferred_income  long_term_incentive  \\\n",
      "BHATNAGAR SANJAY              NaN                  NaN   \n",
      "\n",
      "                  from_poi_to_this_person  \n",
      "BHATNAGAR SANJAY                      0.0  \n",
      "Index([u'BHATNAGAR SANJAY'], dtype='object')\n"
     ]
    },
    {
     "data": {
      "image/png": "[encoded data removed]",
      "text/plain": [
       "<matplotlib.figure.Figure at 0x10e333750>"
      ]
     },
     "metadata": {},
     "output_type": "display_data"
    }
   ],
   "source": [
    "outlier_plt(7)\n",
    "print_outlier(7,1e7)\n",
    "print df[df['restricted_stock']<= 0]\n",
    "print df[df['restricted_stock']<= 0].index"
   ]
  },
  {
   "cell_type": "code",
   "execution_count": 35,
   "metadata": {},
   "outputs": [
    {
     "data": {
      "text/html": [
       "<div>\n",
       "<table border=\"1\" class=\"dataframe\">\n",
       "  <thead>\n",
       "    <tr style=\"text-align: right;\">\n",
       "      <th></th>\n",
       "      <th>poi</th>\n",
       "      <th>salary</th>\n",
       "      <th>to_messages</th>\n",
       "      <th>deferral_payments</th>\n",
       "      <th>total_payments</th>\n",
       "      <th>exercised_stock_options</th>\n",
       "      <th>bonus</th>\n",
       "      <th>restricted_stock</th>\n",
       "      <th>shared_receipt_with_poi</th>\n",
       "      <th>restricted_stock_deferred</th>\n",
       "      <th>total_stock_value</th>\n",
       "      <th>expenses</th>\n",
       "      <th>loan_advances</th>\n",
       "      <th>from_messages</th>\n",
       "      <th>other</th>\n",
       "      <th>from_this_person_to_poi</th>\n",
       "      <th>director_fees</th>\n",
       "      <th>deferred_income</th>\n",
       "      <th>long_term_incentive</th>\n",
       "      <th>from_poi_to_this_person</th>\n",
       "    </tr>\n",
       "  </thead>\n",
       "  <tbody>\n",
       "    <tr>\n",
       "      <th>BHATNAGAR SANJAY</th>\n",
       "      <td>0.0</td>\n",
       "      <td>NaN</td>\n",
       "      <td>523.0</td>\n",
       "      <td>NaN</td>\n",
       "      <td>15456290.0</td>\n",
       "      <td>2604490.0</td>\n",
       "      <td>NaN</td>\n",
       "      <td>-2604490.0</td>\n",
       "      <td>463.0</td>\n",
       "      <td>15456290.0</td>\n",
       "      <td>NaN</td>\n",
       "      <td>NaN</td>\n",
       "      <td>NaN</td>\n",
       "      <td>29.0</td>\n",
       "      <td>137864.0</td>\n",
       "      <td>1.0</td>\n",
       "      <td>137864.0</td>\n",
       "      <td>NaN</td>\n",
       "      <td>NaN</td>\n",
       "      <td>0.0</td>\n",
       "    </tr>\n",
       "  </tbody>\n",
       "</table>\n",
       "</div>"
      ],
      "text/plain": [
       "                  poi  salary  to_messages  deferral_payments  total_payments  \\\n",
       "BHATNAGAR SANJAY  0.0     NaN        523.0                NaN      15456290.0   \n",
       "\n",
       "                  exercised_stock_options  bonus  restricted_stock  \\\n",
       "BHATNAGAR SANJAY                2604490.0    NaN        -2604490.0   \n",
       "\n",
       "                  shared_receipt_with_poi  restricted_stock_deferred  \\\n",
       "BHATNAGAR SANJAY                    463.0                 15456290.0   \n",
       "\n",
       "                  total_stock_value  expenses  loan_advances  from_messages  \\\n",
       "BHATNAGAR SANJAY                NaN       NaN            NaN           29.0   \n",
       "\n",
       "                     other  from_this_person_to_poi  director_fees  \\\n",
       "BHATNAGAR SANJAY  137864.0                      1.0       137864.0   \n",
       "\n",
       "                  deferred_income  long_term_incentive  \\\n",
       "BHATNAGAR SANJAY              NaN                  NaN   \n",
       "\n",
       "                  from_poi_to_this_person  \n",
       "BHATNAGAR SANJAY                      0.0  "
      ]
     },
     "execution_count": 35,
     "metadata": {},
     "output_type": "execute_result"
    }
   ],
   "source": [
    "df[df['restricted_stock']<= 0]"
   ]
  },
  {
   "cell_type": "code",
   "execution_count": 36,
   "metadata": {},
   "outputs": [
    {
     "data": {
      "image/png": "[encoded data removed]",
      "text/plain": [
       "<matplotlib.figure.Figure at 0x10e342450>"
      ]
     },
     "metadata": {},
     "output_type": "display_data"
    }
   ],
   "source": [
    "outlier_plt(8)\n",
    "#print_outlier(8,4000)"
   ]
  },
  {
   "cell_type": "code",
   "execution_count": 37,
   "metadata": {},
   "outputs": [
    {
     "name": "stdout",
     "output_type": "stream",
     "text": [
      "                  poi  salary  to_messages  deferral_payments  total_payments  \\\n",
      "BHATNAGAR SANJAY  0.0     NaN        523.0                NaN      15456290.0   \n",
      "\n",
      "                  exercised_stock_options  bonus  restricted_stock  \\\n",
      "BHATNAGAR SANJAY                2604490.0    NaN        -2604490.0   \n",
      "\n",
      "                  shared_receipt_with_poi  restricted_stock_deferred  \\\n",
      "BHATNAGAR SANJAY                    463.0                 15456290.0   \n",
      "\n",
      "                  total_stock_value  expenses  loan_advances  from_messages  \\\n",
      "BHATNAGAR SANJAY                NaN       NaN            NaN           29.0   \n",
      "\n",
      "                     other  from_this_person_to_poi  director_fees  \\\n",
      "BHATNAGAR SANJAY  137864.0                      1.0       137864.0   \n",
      "\n",
      "                  deferred_income  long_term_incentive  \\\n",
      "BHATNAGAR SANJAY              NaN                  NaN   \n",
      "\n",
      "                  from_poi_to_this_person  \n",
      "BHATNAGAR SANJAY                      0.0  \n",
      "Index([u'BHATNAGAR SANJAY'], dtype='object')\n"
     ]
    },
    {
     "data": {
      "image/png": "[encoded data removed]",
      "text/plain": [
       "<matplotlib.figure.Figure at 0x10db61c10>"
      ]
     },
     "metadata": {},
     "output_type": "display_data"
    }
   ],
   "source": [
    "outlier_plt(9)\n",
    "print_outlier(9,1.5e7)"
   ]
  },
  {
   "cell_type": "code",
   "execution_count": 23,
   "metadata": {},
   "outputs": [
    {
     "name": "stdout",
     "output_type": "stream",
     "text": [
      "                    poi     salary  to_messages  deferral_payments  \\\n",
      "HIRKO JOSEPH        1.0        NaN          NaN            10259.0   \n",
      "LAY KENNETH L       1.0  1072321.0       4273.0           202911.0   \n",
      "PAI LOU L           0.0   261879.0          NaN                NaN   \n",
      "RICE KENNETH D      1.0   420636.0        905.0                NaN   \n",
      "SKILLING JEFFREY K  1.0  1111258.0       3627.0                NaN   \n",
      "\n",
      "                    total_payments  exercised_stock_options      bonus  \\\n",
      "HIRKO JOSEPH               91093.0               30766064.0        NaN   \n",
      "LAY KENNETH L          103559793.0               34348384.0  7000000.0   \n",
      "PAI LOU L                3123383.0               15364167.0  1000000.0   \n",
      "RICE KENNETH D            505050.0               19794175.0  1750000.0   \n",
      "SKILLING JEFFREY K       8682716.0               19250000.0  5600000.0   \n",
      "\n",
      "                    restricted_stock  shared_receipt_with_poi  \\\n",
      "HIRKO JOSEPH                     NaN                      NaN   \n",
      "LAY KENNETH L             14761694.0                   2411.0   \n",
      "PAI LOU L                  8453763.0                      NaN   \n",
      "RICE KENNETH D             2748364.0                    864.0   \n",
      "SKILLING JEFFREY K         6843672.0                   2042.0   \n",
      "\n",
      "                    restricted_stock_deferred  total_stock_value  expenses  \\\n",
      "HIRKO JOSEPH                              NaN         30766064.0   77978.0   \n",
      "LAY KENNETH L                             NaN         49110078.0   99832.0   \n",
      "PAI LOU L                                 NaN         23817930.0   32047.0   \n",
      "RICE KENNETH D                            NaN         22542539.0   46950.0   \n",
      "SKILLING JEFFREY K                        NaN         26093672.0   29336.0   \n",
      "\n",
      "                    loan_advances  from_messages       other  \\\n",
      "HIRKO JOSEPH                  NaN            NaN      2856.0   \n",
      "LAY KENNETH L          81525000.0           36.0  10359729.0   \n",
      "PAI LOU L                     NaN            NaN   1829457.0   \n",
      "RICE KENNETH D                NaN           18.0    174839.0   \n",
      "SKILLING JEFFREY K            NaN          108.0     22122.0   \n",
      "\n",
      "                    from_this_person_to_poi  director_fees  deferred_income  \\\n",
      "HIRKO JOSEPH                            NaN            NaN              NaN   \n",
      "LAY KENNETH L                          16.0            NaN        -300000.0   \n",
      "PAI LOU L                               NaN            NaN              NaN   \n",
      "RICE KENNETH D                          4.0            NaN       -3504386.0   \n",
      "SKILLING JEFFREY K                     30.0            NaN              NaN   \n",
      "\n",
      "                    long_term_incentive  from_poi_to_this_person  \n",
      "HIRKO JOSEPH                        NaN                      NaN  \n",
      "LAY KENNETH L                 3600000.0                    123.0  \n",
      "PAI LOU L                           NaN                      NaN  \n",
      "RICE KENNETH D                1617011.0                     42.0  \n",
      "SKILLING JEFFREY K            1920000.0                     88.0  \n",
      "Index([u'HIRKO JOSEPH', u'LAY KENNETH L', u'PAI LOU L', u'RICE KENNETH D',\n",
      "       u'SKILLING JEFFREY K'],\n",
      "      dtype='object')\n"
     ]
    },
    {
     "data": {
      "image/png": "[encoded data removed]",
      "text/plain": [
       "<matplotlib.figure.Figure at 0x10f81a750>"
      ]
     },
     "metadata": {},
     "output_type": "display_data"
    }
   ],
   "source": [
    "outlier_plt(10)\n",
    "print_outlier(10,2e7)"
   ]
  },
  {
   "cell_type": "code",
   "execution_count": 24,
   "metadata": {},
   "outputs": [
    {
     "data": {
      "image/png": "[encoded data removed]",
      "text/plain": [
       "<matplotlib.figure.Figure at 0x110067890>"
      ]
     },
     "metadata": {},
     "output_type": "display_data"
    }
   ],
   "source": [
    "outlier_plt(11)\n",
    "#print_outlier(11,200000)"
   ]
  },
  {
   "cell_type": "code",
   "execution_count": 25,
   "metadata": {},
   "outputs": [
    {
     "name": "stdout",
     "output_type": "stream",
     "text": [
      "               poi     salary  to_messages  deferral_payments  total_payments  \\\n",
      "LAY KENNETH L  1.0  1072321.0       4273.0           202911.0     103559793.0   \n",
      "\n",
      "               exercised_stock_options      bonus  restricted_stock  \\\n",
      "LAY KENNETH L               34348384.0  7000000.0        14761694.0   \n",
      "\n",
      "               shared_receipt_with_poi  restricted_stock_deferred  \\\n",
      "LAY KENNETH L                   2411.0                        NaN   \n",
      "\n",
      "               total_stock_value  expenses  loan_advances  from_messages  \\\n",
      "LAY KENNETH L         49110078.0   99832.0     81525000.0           36.0   \n",
      "\n",
      "                    other  from_this_person_to_poi  director_fees  \\\n",
      "LAY KENNETH L  10359729.0                     16.0            NaN   \n",
      "\n",
      "               deferred_income  long_term_incentive  from_poi_to_this_person  \n",
      "LAY KENNETH L        -300000.0            3600000.0                    123.0  \n",
      "Index([u'LAY KENNETH L'], dtype='object')\n"
     ]
    },
    {
     "data": {
      "image/png": "[encoded data removed]",
      "text/plain": [
       "<matplotlib.figure.Figure at 0x10fb33b90>"
      ]
     },
     "metadata": {},
     "output_type": "display_data"
    }
   ],
   "source": [
    "outlier_plt(12)\n",
    "print_outlier(12,1e7)"
   ]
  },
  {
   "cell_type": "code",
   "execution_count": 26,
   "metadata": {},
   "outputs": [
    {
     "name": "stdout",
     "output_type": "stream",
     "text": [
      "                     poi    salary  to_messages  deferral_payments  \\\n",
      "KAMINSKI WINCENTY J  0.0  275101.0       4607.0                NaN   \n",
      "\n",
      "                     total_payments  exercised_stock_options     bonus  \\\n",
      "KAMINSKI WINCENTY J       1086821.0                 850010.0  400000.0   \n",
      "\n",
      "                     restricted_stock  shared_receipt_with_poi  \\\n",
      "KAMINSKI WINCENTY J          126027.0                    583.0   \n",
      "\n",
      "                     restricted_stock_deferred  total_stock_value  expenses  \\\n",
      "KAMINSKI WINCENTY J                        NaN           976037.0   83585.0   \n",
      "\n",
      "                     loan_advances  from_messages   other  \\\n",
      "KAMINSKI WINCENTY J            NaN        14368.0  4669.0   \n",
      "\n",
      "                     from_this_person_to_poi  director_fees  deferred_income  \\\n",
      "KAMINSKI WINCENTY J                    171.0            NaN              NaN   \n",
      "\n",
      "                     long_term_incentive  from_poi_to_this_person  \n",
      "KAMINSKI WINCENTY J             323466.0                     41.0  \n",
      "Index([u'KAMINSKI WINCENTY J'], dtype='object')\n"
     ]
    },
    {
     "data": {
      "image/png": "[encoded data removed]",
      "text/plain": [
       "<matplotlib.figure.Figure at 0x10fabc8d0>"
      ]
     },
     "metadata": {},
     "output_type": "display_data"
    }
   ],
   "source": [
    "outlier_plt(13)\n",
    "print_outlier(13,12000)"
   ]
  },
  {
   "cell_type": "code",
   "execution_count": 27,
   "metadata": {},
   "outputs": [
    {
     "name": "stdout",
     "output_type": "stream",
     "text": [
      "                poi     salary  to_messages  deferral_payments  \\\n",
      "FREVERT MARK A  0.0  1060932.0       3275.0          6426990.0   \n",
      "LAY KENNETH L   1.0  1072321.0       4273.0           202911.0   \n",
      "\n",
      "                total_payments  exercised_stock_options      bonus  \\\n",
      "FREVERT MARK A      17252530.0               10433518.0  2000000.0   \n",
      "LAY KENNETH L      103559793.0               34348384.0  7000000.0   \n",
      "\n",
      "                restricted_stock  shared_receipt_with_poi  \\\n",
      "FREVERT MARK A         4188667.0                   2979.0   \n",
      "LAY KENNETH L         14761694.0                   2411.0   \n",
      "\n",
      "                restricted_stock_deferred  total_stock_value  expenses  \\\n",
      "FREVERT MARK A                        NaN         14622185.0   86987.0   \n",
      "LAY KENNETH L                         NaN         49110078.0   99832.0   \n",
      "\n",
      "                loan_advances  from_messages       other  \\\n",
      "FREVERT MARK A      2000000.0           21.0   7427621.0   \n",
      "LAY KENNETH L      81525000.0           36.0  10359729.0   \n",
      "\n",
      "                from_this_person_to_poi  director_fees  deferred_income  \\\n",
      "FREVERT MARK A                      6.0            NaN       -3367011.0   \n",
      "LAY KENNETH L                      16.0            NaN        -300000.0   \n",
      "\n",
      "                long_term_incentive  from_poi_to_this_person  \n",
      "FREVERT MARK A            1617011.0                    242.0  \n",
      "LAY KENNETH L             3600000.0                    123.0  \n",
      "Index([u'FREVERT MARK A', u'LAY KENNETH L'], dtype='object')\n"
     ]
    },
    {
     "data": {
      "image/png": "[encoded data removed]",
      "text/plain": [
       "<matplotlib.figure.Figure at 0x10fc51dd0>"
      ]
     },
     "metadata": {},
     "output_type": "display_data"
    }
   ],
   "source": [
    "outlier_plt(14)\n",
    "print_outlier(14,0.6e7)"
   ]
  },
  {
   "cell_type": "code",
   "execution_count": 28,
   "metadata": {},
   "outputs": [
    {
     "name": "stdout",
     "output_type": "stream",
     "text": [
      "                  poi    salary  to_messages  deferral_payments  \\\n",
      "BECK SALLY W      0.0  231330.0       7315.0                NaN   \n",
      "DELAINEY DAVID W  1.0  365163.0       3093.0                NaN   \n",
      "KEAN STEVEN J     0.0  404338.0      12754.0                NaN   \n",
      "LAVORATO JOHN J   0.0  339288.0       7259.0                NaN   \n",
      "\n",
      "                  total_payments  exercised_stock_options      bonus  \\\n",
      "BECK SALLY W            969068.0                      NaN   700000.0   \n",
      "DELAINEY DAVID W       4747979.0                2291113.0  3000000.0   \n",
      "KEAN STEVEN J          1747522.0                2022048.0  1000000.0   \n",
      "LAVORATO JOHN J       10425757.0                4158995.0  8000000.0   \n",
      "\n",
      "                  restricted_stock  shared_receipt_with_poi  \\\n",
      "BECK SALLY W              126027.0                   2639.0   \n",
      "DELAINEY DAVID W         1323148.0                   2097.0   \n",
      "KEAN STEVEN J            4131594.0                   3639.0   \n",
      "LAVORATO JOHN J          1008149.0                   3962.0   \n",
      "\n",
      "                  restricted_stock_deferred  total_stock_value  expenses  \\\n",
      "BECK SALLY W                            NaN           126027.0   37172.0   \n",
      "DELAINEY DAVID W                        NaN          3614261.0   86174.0   \n",
      "KEAN STEVEN J                           NaN          6153642.0   41953.0   \n",
      "LAVORATO JOHN J                         NaN          5167144.0   49537.0   \n",
      "\n",
      "                  loan_advances  from_messages   other  \\\n",
      "BECK SALLY W                NaN         4343.0   566.0   \n",
      "DELAINEY DAVID W            NaN         3069.0  1661.0   \n",
      "KEAN STEVEN J               NaN         6759.0  1231.0   \n",
      "LAVORATO JOHN J             NaN         2585.0  1552.0   \n",
      "\n",
      "                  from_this_person_to_poi  director_fees  deferred_income  \\\n",
      "BECK SALLY W                        386.0            NaN              NaN   \n",
      "DELAINEY DAVID W                    609.0            NaN              NaN   \n",
      "KEAN STEVEN J                       387.0            NaN              NaN   \n",
      "LAVORATO JOHN J                     411.0            NaN              NaN   \n",
      "\n",
      "                  long_term_incentive  from_poi_to_this_person  \n",
      "BECK SALLY W                      NaN                    144.0  \n",
      "DELAINEY DAVID W            1294981.0                     66.0  \n",
      "KEAN STEVEN J                300000.0                    140.0  \n",
      "LAVORATO JOHN J             2035380.0                    528.0  \n",
      "Index([u'BECK SALLY W', u'DELAINEY DAVID W', u'KEAN STEVEN J',\n",
      "       u'LAVORATO JOHN J'],\n",
      "      dtype='object')\n"
     ]
    },
    {
     "data": {
      "image/png": "[encoded data removed]",
      "text/plain": [
       "<matplotlib.figure.Figure at 0x1101bdb10>"
      ]
     },
     "metadata": {},
     "output_type": "display_data"
    }
   ],
   "source": [
    "outlier_plt(15)\n",
    "print_outlier(15,300)"
   ]
  },
  {
   "cell_type": "code",
   "execution_count": 29,
   "metadata": {},
   "outputs": [
    {
     "data": {
      "image/png": "[encoded data removed]",
      "text/plain": [
       "<matplotlib.figure.Figure at 0x1104a9690>"
      ]
     },
     "metadata": {},
     "output_type": "display_data"
    }
   ],
   "source": [
    "outlier_plt(16)\n",
    "#print_outlier(16,1e7)"
   ]
  },
  {
   "cell_type": "code",
   "execution_count": 30,
   "metadata": {},
   "outputs": [
    {
     "data": {
      "image/png": "[encoded data removed]",
      "text/plain": [
       "<matplotlib.figure.Figure at 0x10ff48a50>"
      ]
     },
     "metadata": {},
     "output_type": "display_data"
    }
   ],
   "source": [
    "outlier_plt(17)\n",
    "#print_outlier(7,1e7)"
   ]
  },
  {
   "cell_type": "code",
   "execution_count": 31,
   "metadata": {},
   "outputs": [
    {
     "name": "stdout",
     "output_type": "stream",
     "text": [
      "                 poi     salary  to_messages  deferral_payments  \\\n",
      "LAY KENNETH L    1.0  1072321.0       4273.0           202911.0   \n",
      "MARTIN AMANDA K  0.0   349487.0       1522.0            85430.0   \n",
      "\n",
      "                 total_payments  exercised_stock_options      bonus  \\\n",
      "LAY KENNETH L       103559793.0               34348384.0  7000000.0   \n",
      "MARTIN AMANDA K       8407016.0                2070306.0        NaN   \n",
      "\n",
      "                 restricted_stock  shared_receipt_with_poi  \\\n",
      "LAY KENNETH L          14761694.0                   2411.0   \n",
      "MARTIN AMANDA K               NaN                    477.0   \n",
      "\n",
      "                 restricted_stock_deferred  total_stock_value  expenses  \\\n",
      "LAY KENNETH L                          NaN         49110078.0   99832.0   \n",
      "MARTIN AMANDA K                        NaN          2070306.0    8211.0   \n",
      "\n",
      "                 loan_advances  from_messages       other  \\\n",
      "LAY KENNETH L       81525000.0           36.0  10359729.0   \n",
      "MARTIN AMANDA K            NaN          230.0   2818454.0   \n",
      "\n",
      "                 from_this_person_to_poi  director_fees  deferred_income  \\\n",
      "LAY KENNETH L                       16.0            NaN        -300000.0   \n",
      "MARTIN AMANDA K                      0.0            NaN              NaN   \n",
      "\n",
      "                 long_term_incentive  from_poi_to_this_person  \n",
      "LAY KENNETH L              3600000.0                    123.0  \n",
      "MARTIN AMANDA K            5145434.0                      8.0  \n",
      "Index([u'LAY KENNETH L', u'MARTIN AMANDA K'], dtype='object')\n"
     ]
    },
    {
     "data": {
      "image/png": "[encoded data removed]",
      "text/plain": [
       "<matplotlib.figure.Figure at 0x110106f10>"
      ]
     },
     "metadata": {},
     "output_type": "display_data"
    }
   ],
   "source": [
    "outlier_plt(18)\n",
    "print_outlier(18,3000000)"
   ]
  },
  {
   "cell_type": "code",
   "execution_count": 32,
   "metadata": {},
   "outputs": [
    {
     "name": "stdout",
     "output_type": "stream",
     "text": [
      "                 poi    salary  to_messages  deferral_payments  \\\n",
      "LAVORATO JOHN J  0.0  339288.0       7259.0                NaN   \n",
      "\n",
      "                 total_payments  exercised_stock_options      bonus  \\\n",
      "LAVORATO JOHN J      10425757.0                4158995.0  8000000.0   \n",
      "\n",
      "                 restricted_stock  shared_receipt_with_poi  \\\n",
      "LAVORATO JOHN J         1008149.0                   3962.0   \n",
      "\n",
      "                 restricted_stock_deferred  total_stock_value  expenses  \\\n",
      "LAVORATO JOHN J                        NaN          5167144.0   49537.0   \n",
      "\n",
      "                 loan_advances  from_messages   other  \\\n",
      "LAVORATO JOHN J            NaN         2585.0  1552.0   \n",
      "\n",
      "                 from_this_person_to_poi  director_fees  deferred_income  \\\n",
      "LAVORATO JOHN J                    411.0            NaN              NaN   \n",
      "\n",
      "                 long_term_incentive  from_poi_to_this_person  \n",
      "LAVORATO JOHN J            2035380.0                    528.0  \n",
      "Index([u'LAVORATO JOHN J'], dtype='object')\n"
     ]
    },
    {
     "data": {
      "image/png": "[encoded data removed]",
      "text/plain": [
       "<matplotlib.figure.Figure at 0x1100b56d0>"
      ]
     },
     "metadata": {},
     "output_type": "display_data"
    }
   ],
   "source": [
    "outlier_plt(19)\n",
    "print_outlier(19,500)"
   ]
  },
  {
   "cell_type": "markdown",
   "metadata": {},
   "source": [
    "** Outlier summary**\n",
    "\n",
    "In total we found three outliers here in this dataset. By skimming the dataset we can see that \"THE TRAVEL AGENCY IN THE PARK\" and \"LOCKHART EUGENE E\" are the fake data. So we need to delete these two rows. Another outlier \"TOTAL\" was found by visualizing the data. This is the total amount of the other data, which shall also be omitted.\n",
    "\n",
    "During the exploratory analysis, we also notice some values are way much higher than the other. For these cases, there are still reasonable data because some of them already indicate the poi, or some individuals have higher emails because of their positions.  "
   ]
  },
  {
   "cell_type": "markdown",
   "metadata": {},
   "source": [
    "### 3: Create new feature(s)"
   ]
  },
  {
   "cell_type": "code",
   "execution_count": 38,
   "metadata": {},
   "outputs": [],
   "source": [
    "# Add new features\n",
    "# \"to_poi_ratio\" is the ratio of the from_this_person_to_poi/from_messages, \n",
    "# indicating that the ratio of this person recieving from the pois among all the messages \n",
    "# \"from_poi_ratio\" is the ratio of the from_poi_to_this_person/to_messages,\n",
    "# indicating that the ratio of this person sending from the pois among all the messages \n",
    "\n",
    "features_list.append(\"to_poi_ratio\")\n",
    "features_list.append(\"from_poi_ratio\")\n",
    "\n",
    "df['to_poi_ratio'] = df['from_this_person_to_poi']/df['from_messages']\n",
    "df['from_poi_ratio'] = df['from_poi_to_this_person']/df['to_messages']\n",
    "df = df.fillna(0)"
   ]
  },
  {
   "cell_type": "code",
   "execution_count": 39,
   "metadata": {},
   "outputs": [
    {
     "name": "stdout",
     "output_type": "stream",
     "text": [
      "There are in total 143 person\n",
      "For each person there are 22 features after deleting one feature: email address\n",
      "Among which there are 18 POIs\n"
     ]
    }
   ],
   "source": [
    "print \"There are in total %d person\" % df.shape[0]\n",
    "print \"For each person there are %d features after deleting one feature: email address\" % df.shape[1]\n",
    "print \"Among which there are %d POIs\" % df['poi'].sum()"
   ]
  },
  {
   "cell_type": "code",
   "execution_count": 40,
   "metadata": {},
   "outputs": [],
   "source": [
    "labels = df['poi']\n",
    "features = df.drop('poi', 1)  # where 1 is the axis number (0 for rows and 1 for columns.)"
   ]
  },
  {
   "cell_type": "markdown",
   "metadata": {},
   "source": [
    "Use scatter plot for different features to see if there are direct relationships and/or obvious decision boundary between each features"
   ]
  },
  {
   "cell_type": "code",
   "execution_count": 36,
   "metadata": {},
   "outputs": [
    {
     "name": "stdout",
     "output_type": "stream",
     "text": [
      "['poi', 'salary', 'to_messages', 'deferral_payments', 'total_payments', 'exercised_stock_options', 'bonus', 'restricted_stock', 'shared_receipt_with_poi', 'restricted_stock_deferred', 'total_stock_value', 'expenses', 'loan_advances', 'from_messages', 'other', 'from_this_person_to_poi', 'director_fees', 'deferred_income', 'long_term_incentive', 'from_poi_to_this_person', 'to_poi_ratio', 'from_poi_ratio']\n"
     ]
    }
   ],
   "source": [
    "print features_list"
   ]
  },
  {
   "cell_type": "code",
   "execution_count": 46,
   "metadata": {},
   "outputs": [
    {
     "data": {
      "text/plain": [
       "<matplotlib.collections.PathCollection at 0x10e188a90>"
      ]
     },
     "execution_count": 46,
     "metadata": {},
     "output_type": "execute_result"
    },
    {
     "data": {
      "image/png": "[encoded data removed]",
      "text/plain": [
       "<matplotlib.figure.Figure at 0x10dfd8210>"
      ]
     },
     "metadata": {},
     "output_type": "display_data"
    }
   ],
   "source": [
    "colors = np.where(df.poi ==0, 'r', 'b')\n",
    "plt.scatter(df.salary, df.deferral_payments, color = colors, alpha = 0.2)"
   ]
  },
  {
   "cell_type": "markdown",
   "metadata": {},
   "source": [
    "### Task 4: Try a varity of classifiers"
   ]
  },
  {
   "cell_type": "markdown",
   "metadata": {},
   "source": [
    "**Cross validation**\n",
    "- Split the dataset into train and test data. 70% of the data will be used for training, the rest 30% will be used for testing.\n",
    "- Use random_state(default = 42) to get same sampling, which will be helpful to analyze the algorithm."
   ]
  },
  {
   "cell_type": "code",
   "execution_count": 47,
   "metadata": {},
   "outputs": [
    {
     "name": "stderr",
     "output_type": "stream",
     "text": [
      "/Users/xuemingli/anaconda/lib/python2.7/site-packages/sklearn/cross_validation.py:44: DeprecationWarning: This module was deprecated in version 0.18 in favor of the model_selection module into which all the refactored classes and functions are moved. Also note that the interface of the new CV iterators are different from that of this module. This module will be removed in 0.20.\n",
      "  \"This module will be removed in 0.20.\", DeprecationWarning)\n"
     ]
    }
   ],
   "source": [
    "from sklearn.cross_validation import train_test_split\n",
    "features_train, features_test, labels_train, labels_test = \\\n",
    "    train_test_split(features, labels, test_size=0.3, random_state=42)"
   ]
  },
  {
   "cell_type": "markdown",
   "metadata": {},
   "source": [
    "**Select K Best features**\n",
    "\n",
    "- SelectKBest removes all but the k highest scoring features\n",
    "- f_classif: Compute the ANOVA F-value for the provided sample."
   ]
  },
  {
   "cell_type": "code",
   "execution_count": 48,
   "metadata": {},
   "outputs": [],
   "source": [
    "from sklearn.feature_selection import SelectKBest\n",
    "from sklearn.feature_selection import f_classif\n",
    "\n",
    "skb = SelectKBest(f_classif)"
   ]
  },
  {
   "cell_type": "markdown",
   "metadata": {},
   "source": [
    "** Pipeline **\n",
    "\n",
    "The purpose of the pipeline is to assemble several steps that can be cross-validated together while setting different parameters."
   ]
  },
  {
   "cell_type": "code",
   "execution_count": 58,
   "metadata": {},
   "outputs": [],
   "source": [
    "from sklearn.pipeline import Pipeline\n",
    "from sklearn.naive_bayes import GaussianNB\n",
    "#from sklearn.grid_search import GridSearchCV\n",
    "from sklearn.model_selection import GridSearchCV\n",
    "\n",
    "pipeline =  Pipeline(steps=[(\"SKB\", skb), (\"NaiveBayes\", GaussianNB())])"
   ]
  },
  {
   "cell_type": "markdown",
   "metadata": {},
   "source": [
    "** GridSearchCV**\n",
    "\n",
    "- GridSearchCV implements a “fit” and a “score” method. It also implements “predict”, “predict_proba”, “decision_function”, “transform” and “inverse_transform” if they are implemented in the estimator used.\n",
    "- The parameters of the estimator used to apply these methods are optimized by cross-validated grid-search over a parameter grid."
   ]
  },
  {
   "cell_type": "markdown",
   "metadata": {},
   "source": [
    "** Use pipeline to search for the appropriate amount of features (based on the final scores of precision/recall) **"
   ]
  },
  {
   "cell_type": "code",
   "execution_count": 59,
   "metadata": {},
   "outputs": [],
   "source": [
    "pipe = Pipeline([\n",
    "    ('reduce_dim', SelectKBest()),\n",
    "    ('classify', GaussianNB())\n",
    "])\n",
    "\n",
    "N_FEATURES_OPTIONS = range(1,22)\n",
    "param_grid = [\n",
    "    {\n",
    "        'reduce_dim': [SelectKBest()],\n",
    "        'reduce_dim__k': N_FEATURES_OPTIONS\n",
    "    }\n",
    "]\n",
    "reducer_labels = ['SelectKBest']"
   ]
  },
  {
   "cell_type": "code",
   "execution_count": 60,
   "metadata": {},
   "outputs": [],
   "source": [
    "grid = GridSearchCV(pipe, cv=3, n_jobs=-1, param_grid=param_grid, scoring='precision')\n",
    "grid2 = GridSearchCV(pipe, cv=3, n_jobs=-1, param_grid=param_grid, scoring='recall')\n",
    "grid3 = GridSearchCV(pipe, cv=3, n_jobs=-1, param_grid=param_grid, scoring='f1')\n",
    "\n",
    "grid.fit(features_train, labels_train)\n",
    "grid2.fit(features_train, labels_train)\n",
    "grid3.fit(features_train, labels_train)\n",
    "\n",
    "mean_scores1 = np.array(grid.cv_results_['mean_test_score'])\n",
    "mean_scores2 = np.array(grid2.cv_results_['mean_test_score'])\n",
    "mean_scores3 = np.array(grid3.cv_results_['mean_test_score'])\n",
    "\n",
    "mean_scores4 = mean_scores3.reshape(1, -1, len(N_FEATURES_OPTIONS))"
   ]
  },
  {
   "cell_type": "code",
   "execution_count": 61,
   "metadata": {},
   "outputs": [
    {
     "data": {
      "text/plain": [
       "0.29700000000000004"
      ]
     },
     "execution_count": 61,
     "metadata": {},
     "output_type": "execute_result"
    }
   ],
   "source": [
    "np.max(mean_scores3)\n",
    "mean_scores3[8]"
   ]
  },
  {
   "cell_type": "code",
   "execution_count": 62,
   "metadata": {
    "scrolled": true
   },
   "outputs": [
    {
     "data": {
      "image/png": "[encoded data removed]",
      "text/plain": [
       "<matplotlib.figure.Figure at 0x10d67f950>"
      ]
     },
     "metadata": {},
     "output_type": "display_data"
    }
   ],
   "source": [
    "plt.plot(N_FEATURES_OPTIONS, mean_scores1, 'g')\n",
    "plt.scatter(N_FEATURES_OPTIONS, mean_scores1, s=10, c = \"g\")\n",
    "\n",
    "plt.plot(N_FEATURES_OPTIONS, mean_scores2, 'b')\n",
    "plt.scatter(N_FEATURES_OPTIONS, mean_scores2, s=10, c = \"b\")\n",
    "\n",
    "plt.plot(N_FEATURES_OPTIONS, mean_scores3, 'r')\n",
    "plt.scatter(N_FEATURES_OPTIONS, mean_scores3, s=10, c = \"r\")\n",
    "\n",
    "plt.xticks(N_FEATURES_OPTIONS, N_FEATURES_OPTIONS)\n",
    "plt.grid()\n",
    "plt.show()"
   ]
  },
  {
   "cell_type": "markdown",
   "metadata": {},
   "source": [
    "From the graph we can see that the F1 scores the highest at k=9, while precision and recall are both high."
   ]
  },
  {
   "cell_type": "markdown",
   "metadata": {},
   "source": [
    "After fitting the classifier, select \"K Best\" scores of the feautrues."
   ]
  },
  {
   "cell_type": "markdown",
   "metadata": {},
   "source": [
    "Here we are running the gridsearch again to check if we can get the same results from the model"
   ]
  },
  {
   "cell_type": "code",
   "execution_count": 71,
   "metadata": {},
   "outputs": [],
   "source": [
    "from sklearn.model_selection import GridSearchCV\n",
    "\n",
    "params_skb = {'SKB__k': [5,7,9,13,17]} # Use pipeline to search for the best amount of features\n",
    "clf = GridSearchCV(pipeline, param_grid = params_skb, scoring = 'f1')\n",
    "clf.fit(features_train, labels_train)\n",
    "pred = clf.predict(features_test)"
   ]
  },
  {
   "cell_type": "code",
   "execution_count": 72,
   "metadata": {},
   "outputs": [
    {
     "name": "stdout",
     "output_type": "stream",
     "text": [
      "The Features Selected:\n",
      "['salary', 'total_payments', 'exercised_stock_options', 'bonus', 'restricted_stock', 'shared_receipt_with_poi', 'total_stock_value', 'deferred_income', 'to_poi_ratio']\n",
      "The best estimator:\n",
      "Pipeline(steps=[('SKB', SelectKBest(k=9, score_func=<function f_classif at 0x10dc3b9b0>)), ('NaiveBayes', GaussianNB(priors=None))])\n"
     ]
    }
   ],
   "source": [
    "# here we use i+1 becuase the first feature in the list is poi, which shall not be included in the fitting.\n",
    "features_selected = [features_list[i+1] for i in clf.best_estimator_.named_steps['SKB'].get_support(indices=True)]\n",
    "print 'The Features Selected:'\n",
    "print features_selected\n",
    "\n",
    "print \"The best estimator:\"\n",
    "print clf.best_estimator_"
   ]
  },
  {
   "cell_type": "code",
   "execution_count": 73,
   "metadata": {},
   "outputs": [
    {
     "name": "stdout",
     "output_type": "stream",
     "text": [
      "[ 18.28968404   1.64634113   0.22461127   8.77277773  24.81507973\n",
      "  20.79225205   9.21281062   8.58942073   0.06549965  24.18289868\n",
      "   6.09417331   7.18405566   0.16970095   4.18747751   2.38261211\n",
      "   2.1263278   11.45847658   9.92218601   5.24344971  16.40971255\n",
      "   3.12809175]\n"
     ]
    }
   ],
   "source": [
    "features_scores = SelectKBest(k=9).fit(features, labels)\n",
    "print features_scores.scores_"
   ]
  },
  {
   "cell_type": "code",
   "execution_count": 74,
   "metadata": {},
   "outputs": [
    {
     "data": {
      "image/png": "[encoded data removed]",
      "text/plain": [
       "<matplotlib.figure.Figure at 0x10a2c88d0>"
      ]
     },
     "metadata": {},
     "output_type": "display_data"
    },
    {
     "name": "stdout",
     "output_type": "stream",
     "text": [
      "Here we select the following features: \n",
      "['salary', 'to_messages', 'deferral_payments', 'total_payments', 'exercised_stock_options', 'bonus', 'restricted_stock', 'shared_receipt_with_poi', 'restricted_stock_deferred']\n"
     ]
    }
   ],
   "source": [
    "features_k = []\n",
    "plt.figure()\n",
    "#COLORS = 'bgrcmyk'\n",
    "#colors = ['r' if feature>10 else 'b' for feature in features_k.scores_]\n",
    "for i, feature in enumerate(features_scores.scores_):\n",
    "    plt.bar(i, feature, color = ['r' if feature>15 else 'b']) \n",
    "    if i< 9:\n",
    "        features_k.append(features_list[i+1])\n",
    "plt.show()\n",
    "print \"Here we select the following features: \\n\", features_k"
   ]
  },
  {
   "cell_type": "markdown",
   "metadata": {},
   "source": [
    "From the best estimator we can find that the best case is when k=9, which matches the score graph aforementioned."
   ]
  },
  {
   "cell_type": "markdown",
   "metadata": {},
   "source": [
    "In order to see how much KBest helps to optimize the results, hereby I used Naive Bayes without KBest.\n",
    "\n",
    "First we need to create a new dataframe to store the columns with the selected features"
   ]
  },
  {
   "cell_type": "code",
   "execution_count": 75,
   "metadata": {
    "scrolled": false
   },
   "outputs": [],
   "source": [
    "features_train_k =pd.DataFrame()\n",
    "features_test_k =pd.DataFrame()\n",
    "for feature in features_k:\n",
    "    features_train_k[feature] = features_train[feature]\n",
    "    features_test_k[feature] = features_test[feature]"
   ]
  },
  {
   "cell_type": "markdown",
   "metadata": {},
   "source": [
    "This can also be done with the transform function"
   ]
  },
  {
   "cell_type": "code",
   "execution_count": 76,
   "metadata": {},
   "outputs": [],
   "source": [
    "features_train_kk = features_scores.transform(features_train)"
   ]
  },
  {
   "cell_type": "markdown",
   "metadata": {},
   "source": [
    "Now let's test the samples with Naive Bayes algorithm. And here we will compare the results before/after the KBest"
   ]
  },
  {
   "cell_type": "code",
   "execution_count": 77,
   "metadata": {
    "collapsed": true
   },
   "outputs": [],
   "source": [
    "# Without KBest\n",
    "clf_0 = GaussianNB()\n",
    "clf_0.fit(features_train, labels_train)\n",
    "pred_0 = clf_0.predict(features_test)"
   ]
  },
  {
   "cell_type": "code",
   "execution_count": 78,
   "metadata": {},
   "outputs": [
    {
     "name": "stdout",
     "output_type": "stream",
     "text": [
      "Accuracy before KBest: 0.883720930233\n",
      "Precision before KBest: 0.48488372093\n",
      "Recall before KBest: 0.4\n",
      "\n",
      "\n"
     ]
    }
   ],
   "source": [
    "from sklearn.metrics import recall_score\n",
    "from sklearn.metrics import average_precision_score\n",
    "from sklearn.metrics import accuracy_score\n",
    "\n",
    "rec_sc_0 = recall_score(labels_test, pred_0)\n",
    "pre_sc_0 = average_precision_score(labels_test, pred_0)\n",
    "acc_0 = accuracy_score(pred_0, labels_test)\n",
    "print \"Accuracy before KBest:\", acc_0\n",
    "print \"Precision before KBest:\", pre_sc_0\n",
    "print \"Recall before KBest:\", rec_sc_0\n",
    "print \"\\n\""
   ]
  },
  {
   "cell_type": "code",
   "execution_count": 79,
   "metadata": {
    "collapsed": true
   },
   "outputs": [],
   "source": [
    "clf = GaussianNB()\n",
    "clf.fit(features_train_k, labels_train)\n",
    "pred = clf.predict(features_test_k)"
   ]
  },
  {
   "cell_type": "code",
   "execution_count": 80,
   "metadata": {},
   "outputs": [
    {
     "name": "stdout",
     "output_type": "stream",
     "text": [
      "Accuracy after KBest: 0.860465116279\n",
      "Precision after KBest: 0.537541528239\n",
      "Recall after KBest: 0.6\n"
     ]
    }
   ],
   "source": [
    "from sklearn.metrics import recall_score\n",
    "from sklearn.metrics import average_precision_score\n",
    "from sklearn.metrics import accuracy_score\n",
    "\n",
    "rec_sc = recall_score(labels_test, pred)\n",
    "pre_sc = average_precision_score(labels_test, pred)\n",
    "acc = accuracy_score(pred, labels_test)\n",
    "print \"Accuracy after KBest:\", acc\n",
    "print \"Precision after KBest:\", pre_sc\n",
    "print \"Recall after KBest:\", rec_sc"
   ]
  },
  {
   "cell_type": "markdown",
   "metadata": {},
   "source": [
    "As shown in the results, the accuracy is slightly lower after the KBest, but both the precision and recall increased with at least 0.1"
   ]
  },
  {
   "cell_type": "markdown",
   "metadata": {},
   "source": [
    "## KNN\n",
    "\n",
    "First we will try it without tuning, and without kbest"
   ]
  },
  {
   "cell_type": "code",
   "execution_count": 81,
   "metadata": {},
   "outputs": [],
   "source": [
    "# Using KNN without tuning the parameters\n",
    "from sklearn.neighbors import KNeighborsClassifier\n",
    "clf = KNeighborsClassifier()\n",
    "clf.fit(features_train, labels_train)\n",
    "pred = clf.predict(features_test)"
   ]
  },
  {
   "cell_type": "code",
   "execution_count": 82,
   "metadata": {},
   "outputs": [
    {
     "name": "stdout",
     "output_type": "stream",
     "text": [
      "Accuracy before KBest: 0.883720930233\n",
      "Precision before KBest: 0.558139534884\n",
      "Recall before KBest: 0.0\n"
     ]
    }
   ],
   "source": [
    "rec_sc = recall_score(labels_test, pred)\n",
    "pre_sc = average_precision_score(labels_test, pred)\n",
    "acc = accuracy_score(pred, labels_test)\n",
    "print \"Accuracy before KBest:\", acc\n",
    "print \"Precision before KBest:\", pre_sc\n",
    "print \"Recall before KBest:\", rec_sc"
   ]
  },
  {
   "cell_type": "code",
   "execution_count": 83,
   "metadata": {},
   "outputs": [
    {
     "name": "stdout",
     "output_type": "stream",
     "text": [
      "Accuracy after KBest: 0.860465116279\n",
      "Precision after KBest: 0.0581395348837\n",
      "Recall after KBest: 0.0\n"
     ]
    }
   ],
   "source": [
    "clf_k = KNeighborsClassifier()\n",
    "clf_k.fit(features_train_k, labels_train)\n",
    "pred_k = clf_k.predict(features_test_k)\n",
    "rec_sc_k = recall_score(labels_test, pred_k)\n",
    "pre_sc_k = average_precision_score(labels_test, pred_k)\n",
    "acc_k = accuracy_score(pred_k, labels_test)\n",
    "print \"Accuracy after KBest:\", acc_k\n",
    "print \"Precision after KBest:\", pre_sc_k\n",
    "print \"Recall after KBest:\", rec_sc_k"
   ]
  },
  {
   "cell_type": "markdown",
   "metadata": {},
   "source": [
    "With KBest, the resutls got even worse."
   ]
  },
  {
   "cell_type": "code",
   "execution_count": 84,
   "metadata": {},
   "outputs": [
    {
     "name": "stderr",
     "output_type": "stream",
     "text": [
      "/Users/xuemingli/anaconda/lib/python2.7/site-packages/sklearn/metrics/classification.py:1113: UndefinedMetricWarning: F-score is ill-defined and being set to 0.0 due to no predicted samples.\n",
      "  'precision', 'predicted', average, warn_for)\n"
     ]
    },
    {
     "name": "stdout",
     "output_type": "stream",
     "text": [
      "KNeighborsClassifier(algorithm='auto', leaf_size=1, metric='minkowski',\n",
      "           metric_params=None, n_jobs=1, n_neighbors=5, p=2,\n",
      "           weights='distance')\n"
     ]
    }
   ],
   "source": [
    "# Using GridSearchCV for KNN\n",
    "from sklearn.neighbors import KNeighborsClassifier\n",
    "knn = KNeighborsClassifier()\n",
    "parameters = {'n_neighbors':[1,3,5,7,9],'leaf_size':[1, 3, 5, 10, 30,50], 'algorithm':['auto', 'ball_tree', 'kd_tree', 'brute'], 'weights' : ['uniform', 'distance']}\n",
    "clf = GridSearchCV(knn,parameters, scoring = 'f1')\n",
    "clf.fit(features_train_k, labels_train)\n",
    "pred = clf.predict(features_test_k)\n",
    "print clf.best_estimator_"
   ]
  },
  {
   "cell_type": "code",
   "execution_count": 85,
   "metadata": {},
   "outputs": [
    {
     "name": "stdout",
     "output_type": "stream",
     "text": [
      "Accuracy after tuning: 0.837209302326\n",
      "Precision after tuning: 0.0581395348837\n",
      "Recall after tuning: 0.0\n"
     ]
    }
   ],
   "source": [
    "rec_sc = recall_score(labels_test, pred)\n",
    "pre_sc = average_precision_score(labels_test, pred)\n",
    "acc = accuracy_score(pred, labels_test)\n",
    "print \"Accuracy after tuning:\", acc\n",
    "print \"Precision after tuning:\", pre_sc\n",
    "print \"Recall after tuning:\", rec_sc"
   ]
  },
  {
   "cell_type": "markdown",
   "metadata": {},
   "source": [
    "Oops, it's not working\n",
    "\n",
    "Looks like we forgot to do feature scale. Will come back later for this issue"
   ]
  },
  {
   "cell_type": "code",
   "execution_count": 86,
   "metadata": {},
   "outputs": [
    {
     "name": "stdout",
     "output_type": "stream",
     "text": [
      "Accuracy before tuning: 0.813953488372\n",
      "Precision before tuning: 0.246511627907\n",
      "Recall before tuning: 0.2\n"
     ]
    }
   ],
   "source": [
    "#Using DecisionTreeClassifier without tuning the parameters\n",
    "from sklearn.tree import DecisionTreeClassifier\n",
    "clf = DecisionTreeClassifier()\n",
    "clf.fit(features_train_k, labels_train)\n",
    "pred = clf.predict(features_test_k)\n",
    "rec_sc = recall_score(labels_test, pred)\n",
    "pre_sc = average_precision_score(labels_test, pred)\n",
    "acc = accuracy_score(pred, labels_test)\n",
    "print \"Accuracy before tuning:\", acc\n",
    "print \"Precision before tuning:\", pre_sc\n",
    "print \"Recall before tuning:\", rec_sc"
   ]
  },
  {
   "cell_type": "code",
   "execution_count": 87,
   "metadata": {},
   "outputs": [
    {
     "name": "stdout",
     "output_type": "stream",
     "text": [
      "DecisionTreeClassifier(class_weight=None, criterion='gini', max_depth=None,\n",
      "            max_features=None, max_leaf_nodes=None,\n",
      "            min_impurity_split=6e-07, min_samples_leaf=1,\n",
      "            min_samples_split=2, min_weight_fraction_leaf=0.0,\n",
      "            presort=False, random_state=46, splitter='best')\n",
      "Accuracy after tuning: 0.790697674419\n",
      "Precision after tuning: 0.22984496124\n",
      "Recall after tuning: 0.2\n"
     ]
    }
   ],
   "source": [
    "#Using DecisionTreeClassifier after tuning the parameters\n",
    "from sklearn.tree import DecisionTreeClassifier\n",
    "from sklearn.model_selection import GridSearchCV\n",
    "\n",
    "dt = DecisionTreeClassifier()\n",
    "parameters = {'min_samples_split':[2, 3, 4,5, 7,10],  \n",
    "               \"min_impurity_split\":[6e-07,5.5e-07,7e-07, 8e-07],\n",
    "                \"min_samples_leaf\":[1,3, 5,7,8,9,10] , \"random_state\": [46]           \n",
    "             }\n",
    "clf = GridSearchCV(dt, parameters, scoring = 'f1')\n",
    "clf.fit(features_train_k, labels_train)\n",
    "print clf.best_estimator_\n",
    "pred = clf.predict(features_test_k)\n",
    "rec_sc = recall_score(labels_test, pred)\n",
    "pre_sc = average_precision_score(labels_test, pred)\n",
    "acc = accuracy_score(pred, labels_test)\n",
    "print \"Accuracy after tuning:\", acc\n",
    "print \"Precision after tuning:\", pre_sc\n",
    "print \"Recall after tuning:\", rec_sc"
   ]
  },
  {
   "cell_type": "markdown",
   "metadata": {},
   "source": [
    "### 5: Dump the classifier, dataset, and features_list \n"
   ]
  },
  {
   "cell_type": "code",
   "execution_count": 88,
   "metadata": {},
   "outputs": [
    {
     "name": "stdout",
     "output_type": "stream",
     "text": [
      "Accuracy after tuning: 0.790697674419\n",
      "Precision after tuning: 0.22984496124\n",
      "Recall after tuning: 0.2\n"
     ]
    }
   ],
   "source": [
    "rec_sc = recall_score(labels_test, pred)\n",
    "pre_sc = average_precision_score(labels_test, pred)\n",
    "acc = accuracy_score(pred, labels_test)\n",
    "print \"Accuracy after tuning:\", acc\n",
    "print \"Precision after tuning:\", pre_sc\n",
    "print \"Recall after tuning:\", rec_sc"
   ]
  },
  {
   "cell_type": "markdown",
   "metadata": {},
   "source": [
    "#### from tester import dump_classifier_and_data\n",
    "dump_classifier_and_data(clf, df, features_list)"
   ]
  },
  {
   "cell_type": "code",
   "execution_count": null,
   "metadata": {
    "collapsed": true
   },
   "outputs": [],
   "source": []
  }
 ],
 "metadata": {
  "anaconda-cloud": {},
  "kernelspec": {
   "display_name": "Python [default]",
   "language": "python",
   "name": "python2"
  },
  "language_info": {
   "codemirror_mode": {
    "name": "ipython",
    "version": 2
   },
   "file_extension": ".py",
   "mimetype": "text/x-python",
   "name": "python",
   "nbconvert_exporter": "python",
   "pygments_lexer": "ipython2",
   "version": "2.7.13"
  }
 },
 "nbformat": 4,
 "nbformat_minor": 1
}
