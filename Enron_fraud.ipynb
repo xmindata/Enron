{
 "cells": [
  {
   "cell_type": "markdown",
   "metadata": {
    "deletable": true,
    "editable": true
   },
   "source": [
    "# Intro to Machine Learning - Enron fraud\n",
    "\n",
    "This is the project for  Udacity  Course **[Intro to Machine Learning](https://www.udacity.com/course/intro-to-machine-learning--ud120)**"
   ]
  },
  {
   "cell_type": "code",
   "execution_count": 1,
   "metadata": {
    "collapsed": false,
    "deletable": true,
    "editable": true
   },
   "outputs": [],
   "source": [
    "#!/usr/bin/python\n",
    "import sys\n",
    "import pickle\n",
    "import matplotlib.pyplot as plt\n",
    "\n",
    "sys.path.append(\"../tools/\")"
   ]
  },
  {
   "cell_type": "markdown",
   "metadata": {
    "deletable": true,
    "editable": true
   },
   "source": [
    "### Load the dictionary containing the dataset\n",
    "\n",
    "Load the pkl data as dict file, then import the dict to pandas dataframe. "
   ]
  },
  {
   "cell_type": "code",
   "execution_count": 2,
   "metadata": {
    "collapsed": false
   },
   "outputs": [],
   "source": [
    "import pandas as pd\n",
    "import numpy as np\n",
    "data_dict = pickle.load(open(\"final_project_dataset.pkl\", \"r\") )\n",
    "\n",
    "###creating dataFrame from dictionary - pandas\n",
    "df = pd.DataFrame.from_dict(data_dict, orient='index', dtype=np.float)\n",
    " \n",
    "# print df.describe().loc[:,['salary','bonus']]"
   ]
  },
  {
   "cell_type": "markdown",
   "metadata": {},
   "source": [
    "Since we don't know which features might be more important,\n",
    "at the beginning we need to include all the features so as not to miss any important information.\n",
    "So Feature_list will have all the features from the dataset.\n",
    "Almost all the feature names are read from the data_dict when loading the data (in the following steps).\n",
    "However, here I would like to remove the \"email_address\",\n",
    "since it's a text and its information for the algorithm is not as important\n",
    "as the other numbers."
   ]
  },
  {
   "cell_type": "markdown",
   "metadata": {
    "deletable": true,
    "editable": true
   },
   "source": [
    "## 1: Feature selection\n",
    "\n",
    "Features_list is a list of strings, each of which is a feature name. ** The first feature must be \"poi\" **."
   ]
  },
  {
   "cell_type": "markdown",
   "metadata": {
    "deletable": true,
    "editable": true
   },
   "source": [
    "Since we don't know which features might be more important,\n",
    "at the beginning we need to include all the features so as not to miss any important information.\n",
    "So Feature_list will have all the features from the dataset.\n",
    "Almost all the feature names are read from the data_dict when loading the data (in the following steps).\n",
    "However, here I would like to remove the \"email_address\",\n",
    "since it's a text and its information for the algorithm is not as important\n",
    "as the other numbers."
   ]
  },
  {
   "cell_type": "code",
   "execution_count": 3,
   "metadata": {
    "collapsed": false
   },
   "outputs": [
    {
     "name": "stdout",
     "output_type": "stream",
     "text": [
      "The Features: \n",
      "['poi', 'salary', 'to_messages', 'deferral_payments', 'total_payments', 'exercised_stock_options', 'bonus', 'restricted_stock', 'shared_receipt_with_poi', 'restricted_stock_deferred', 'total_stock_value', 'expenses', 'loan_advances', 'from_messages', 'other', 'from_this_person_to_poi', 'director_fees', 'deferred_income', 'long_term_incentive', 'from_poi_to_this_person']\n"
     ]
    }
   ],
   "source": [
    "features_list = ['poi']  + [feature for feature in df if feature != 'poi' and feature != 'email_address']\n",
    "df = df[features_list]\n",
    "print \"The Features: \"\n",
    "print features_list"
   ]
  },
  {
   "cell_type": "markdown",
   "metadata": {
    "deletable": true,
    "editable": true
   },
   "source": [
    "After loading the data, we can read the data set to see what is included in the dictionary. "
   ]
  },
  {
   "cell_type": "code",
   "execution_count": 4,
   "metadata": {
    "collapsed": false
   },
   "outputs": [
    {
     "name": "stdout",
     "output_type": "stream",
     "text": [
      "poi                                0.0\n",
      "salary                        201955.0\n",
      "to_messages                     2902.0\n",
      "deferral_payments            2869717.0\n",
      "total_payments               4484442.0\n",
      "exercised_stock_options      1729541.0\n",
      "bonus                        4175000.0\n",
      "restricted_stock              126027.0\n",
      "shared_receipt_with_poi         1407.0\n",
      "restricted_stock_deferred    -126027.0\n",
      "total_stock_value            1729541.0\n",
      "expenses                       13868.0\n",
      "loan_advances                      NaN\n",
      "from_messages                   2195.0\n",
      "other                            152.0\n",
      "from_this_person_to_poi           65.0\n",
      "director_fees                      NaN\n",
      "deferred_income             -3081055.0\n",
      "long_term_incentive           304805.0\n",
      "from_poi_to_this_person           47.0\n",
      "Name: ALLEN PHILLIP K, dtype: float64\n"
     ]
    }
   ],
   "source": [
    "print df.iloc[0]"
   ]
  },
  {
   "cell_type": "markdown",
   "metadata": {
    "deletable": true,
    "editable": true
   },
   "source": [
    "## 2: Exploratory analysis to remove outliers"
   ]
  },
  {
   "cell_type": "markdown",
   "metadata": {},
   "source": [
    "First let's define a plot function so taht we can visualize all the data by different feature."
   ]
  },
  {
   "cell_type": "markdown",
   "metadata": {},
   "source": [
    "By skimming at the data we can notice that \"THE TRAVEL AGENCY IN THE PARK\" and \"LOCKHART EUGENE E\" are the fake data. So we need to delete these two rows."
   ]
  },
  {
   "cell_type": "code",
   "execution_count": 5,
   "metadata": {
    "collapsed": true
   },
   "outputs": [],
   "source": [
    "df = df.drop('THE TRAVEL AGENCY IN THE PARK')\n",
    "df = df.drop('LOCKHART EUGENE E')"
   ]
  },
  {
   "cell_type": "code",
   "execution_count": 6,
   "metadata": {
    "collapsed": false
   },
   "outputs": [
    {
     "name": "stdout",
     "output_type": "stream",
     "text": [
      "Populating the interactive namespace from numpy and matplotlib\n"
     ]
    }
   ],
   "source": [
    "import matplotlib.pyplot as plt\n",
    "%pylab inline\n",
    "\n",
    "def outlier_plt(feature_idx):\n",
    "    plt.title(features_list[feature_idx] + \" distribution\")\n",
    "    df[features_list[feature_idx]].plot.hist(bins = 50, alpha = 0.5)\n",
    "\n",
    "def print_outlier(feature_idx,cutoff):\n",
    "    print df[df[features_list[feature_idx]]>= cutoff]\n",
    "    print df[df[features_list[feature_idx]]>= cutoff].index\n",
    "    "
   ]
  },
  {
   "cell_type": "markdown",
   "metadata": {},
   "source": [
    "### Salary hist"
   ]
  },
  {
   "cell_type": "code",
   "execution_count": 7,
   "metadata": {
    "collapsed": false
   },
   "outputs": [
    {
     "data": {
      "image/png": "[encoded data removed]",
      "text/plain": [
       "<matplotlib.figure.Figure at 0x110fcf710>"
      ]
     },
     "metadata": {},
     "output_type": "display_data"
    }
   ],
   "source": [
    "outlier_plt(1)"
   ]
  },
  {
   "cell_type": "markdown",
   "metadata": {},
   "source": [
    "From the salary distribution plot, there is one obvious outlier which is much higher than the others. According to the axis, its value is higher than 0.5e7, so we can first print out the variables which has salary higher than 0.5e7"
   ]
  },
  {
   "cell_type": "code",
   "execution_count": 8,
   "metadata": {
    "collapsed": false
   },
   "outputs": [
    {
     "name": "stdout",
     "output_type": "stream",
     "text": [
      "       poi      salary  to_messages  deferral_payments  total_payments  \\\n",
      "TOTAL  0.0  26704229.0          NaN         32083396.0     309886585.0   \n",
      "\n",
      "       exercised_stock_options       bonus  restricted_stock  \\\n",
      "TOTAL              311764000.0  97343619.0       130322299.0   \n",
      "\n",
      "       shared_receipt_with_poi  restricted_stock_deferred  total_stock_value  \\\n",
      "TOTAL                      NaN                 -7576788.0        434509511.0   \n",
      "\n",
      "        expenses  loan_advances  from_messages       other  \\\n",
      "TOTAL  5235198.0     83925000.0            NaN  42667589.0   \n",
      "\n",
      "       from_this_person_to_poi  director_fees  deferred_income  \\\n",
      "TOTAL                      NaN      1398517.0      -27992891.0   \n",
      "\n",
      "       long_term_incentive  from_poi_to_this_person  \n",
      "TOTAL           48521928.0                      NaN  \n",
      "Index([u'TOTAL'], dtype='object')\n"
     ]
    }
   ],
   "source": [
    "print df[df['salary']>= 0.5e7]\n",
    "print df[df['salary']>= 0.5e7].index"
   ]
  },
  {
   "cell_type": "code",
   "execution_count": 9,
   "metadata": {
    "collapsed": false
   },
   "outputs": [],
   "source": [
    "df = df.drop('TOTAL')"
   ]
  },
  {
   "cell_type": "code",
   "execution_count": 10,
   "metadata": {
    "collapsed": false
   },
   "outputs": [
    {
     "data": {
      "image/png": "[encoded data removed]",
      "text/plain": [
       "<matplotlib.figure.Figure at 0x11450ffd0>"
      ]
     },
     "metadata": {},
     "output_type": "display_data"
    }
   ],
   "source": [
    "outlier_plt(1)"
   ]
  },
  {
   "cell_type": "markdown",
   "metadata": {},
   "source": [
    "There're still some values much higher than the others, let's print them out"
   ]
  },
  {
   "cell_type": "code",
   "execution_count": 11,
   "metadata": {
    "collapsed": false
   },
   "outputs": [
    {
     "name": "stdout",
     "output_type": "stream",
     "text": [
      "                    poi     salary  to_messages  deferral_payments  \\\n",
      "FREVERT MARK A      0.0  1060932.0       3275.0          6426990.0   \n",
      "LAY KENNETH L       1.0  1072321.0       4273.0           202911.0   \n",
      "SKILLING JEFFREY K  1.0  1111258.0       3627.0                NaN   \n",
      "\n",
      "                    total_payments  exercised_stock_options      bonus  \\\n",
      "FREVERT MARK A          17252530.0               10433518.0  2000000.0   \n",
      "LAY KENNETH L          103559793.0               34348384.0  7000000.0   \n",
      "SKILLING JEFFREY K       8682716.0               19250000.0  5600000.0   \n",
      "\n",
      "                    restricted_stock  shared_receipt_with_poi  \\\n",
      "FREVERT MARK A             4188667.0                   2979.0   \n",
      "LAY KENNETH L             14761694.0                   2411.0   \n",
      "SKILLING JEFFREY K         6843672.0                   2042.0   \n",
      "\n",
      "                    restricted_stock_deferred  total_stock_value  expenses  \\\n",
      "FREVERT MARK A                            NaN         14622185.0   86987.0   \n",
      "LAY KENNETH L                             NaN         49110078.0   99832.0   \n",
      "SKILLING JEFFREY K                        NaN         26093672.0   29336.0   \n",
      "\n",
      "                    loan_advances  from_messages       other  \\\n",
      "FREVERT MARK A          2000000.0           21.0   7427621.0   \n",
      "LAY KENNETH L          81525000.0           36.0  10359729.0   \n",
      "SKILLING JEFFREY K            NaN          108.0     22122.0   \n",
      "\n",
      "                    from_this_person_to_poi  director_fees  deferred_income  \\\n",
      "FREVERT MARK A                          6.0            NaN       -3367011.0   \n",
      "LAY KENNETH L                          16.0            NaN        -300000.0   \n",
      "SKILLING JEFFREY K                     30.0            NaN              NaN   \n",
      "\n",
      "                    long_term_incentive  from_poi_to_this_person  \n",
      "FREVERT MARK A                1617011.0                    242.0  \n",
      "LAY KENNETH L                 3600000.0                    123.0  \n",
      "SKILLING JEFFREY K            1920000.0                     88.0  \n",
      "Index([u'FREVERT MARK A', u'LAY KENNETH L', u'SKILLING JEFFREY K'], dtype='object')\n"
     ]
    }
   ],
   "source": [
    "print df[df['salary']>= 8e5]\n",
    "print df[df['salary']>= 8e5].index"
   ]
  },
  {
   "cell_type": "markdown",
   "metadata": {},
   "source": [
    "Though these people have much higher salary than the others, they are actually the pois we are looking for. So for the salary distribution everything looks fine now."
   ]
  },
  {
   "cell_type": "markdown",
   "metadata": {},
   "source": [
    "### To_messages"
   ]
  },
  {
   "cell_type": "code",
   "execution_count": 12,
   "metadata": {
    "collapsed": false
   },
   "outputs": [
    {
     "data": {
      "image/png": "[encoded data removed]",
      "text/plain": [
       "<matplotlib.figure.Figure at 0x11475fa90>"
      ]
     },
     "metadata": {},
     "output_type": "display_data"
    }
   ],
   "source": [
    "outlier_plt(2)"
   ]
  },
  {
   "cell_type": "code",
   "execution_count": 13,
   "metadata": {
    "collapsed": false
   },
   "outputs": [
    {
     "name": "stdout",
     "output_type": "stream",
     "text": [
      "                   poi    salary  to_messages  deferral_payments  \\\n",
      "KEAN STEVEN J      0.0  404338.0      12754.0                NaN   \n",
      "SHAPIRO RICHARD S  0.0  269076.0      15149.0                NaN   \n",
      "\n",
      "                   total_payments  exercised_stock_options      bonus  \\\n",
      "KEAN STEVEN J           1747522.0                2022048.0  1000000.0   \n",
      "SHAPIRO RICHARD S       1057548.0                 607837.0   650000.0   \n",
      "\n",
      "                   restricted_stock  shared_receipt_with_poi  \\\n",
      "KEAN STEVEN J             4131594.0                   3639.0   \n",
      "SHAPIRO RICHARD S          379164.0                   4527.0   \n",
      "\n",
      "                   restricted_stock_deferred  total_stock_value  expenses  \\\n",
      "KEAN STEVEN J                            NaN          6153642.0   41953.0   \n",
      "SHAPIRO RICHARD S                        NaN           987001.0  137767.0   \n",
      "\n",
      "                   loan_advances  from_messages   other  \\\n",
      "KEAN STEVEN J                NaN         6759.0  1231.0   \n",
      "SHAPIRO RICHARD S            NaN         1215.0   705.0   \n",
      "\n",
      "                   from_this_person_to_poi  director_fees  deferred_income  \\\n",
      "KEAN STEVEN J                        387.0            NaN              NaN   \n",
      "SHAPIRO RICHARD S                     65.0            NaN              NaN   \n",
      "\n",
      "                   long_term_incentive  from_poi_to_this_person  \n",
      "KEAN STEVEN J                 300000.0                    140.0  \n",
      "SHAPIRO RICHARD S                  NaN                     74.0  \n",
      "Index([u'KEAN STEVEN J', u'SHAPIRO RICHARD S'], dtype='object')\n"
     ]
    }
   ],
   "source": [
    "print_outlier(2,12000)"
   ]
  },
  {
   "cell_type": "code",
   "execution_count": 14,
   "metadata": {
    "collapsed": false
   },
   "outputs": [
    {
     "name": "stdout",
     "output_type": "stream",
     "text": [
      "                poi     salary  to_messages  deferral_payments  \\\n",
      "FREVERT MARK A  0.0  1060932.0       3275.0          6426990.0   \n",
      "\n",
      "                total_payments  exercised_stock_options      bonus  \\\n",
      "FREVERT MARK A      17252530.0               10433518.0  2000000.0   \n",
      "\n",
      "                restricted_stock  shared_receipt_with_poi  \\\n",
      "FREVERT MARK A         4188667.0                   2979.0   \n",
      "\n",
      "                restricted_stock_deferred  total_stock_value  expenses  \\\n",
      "FREVERT MARK A                        NaN         14622185.0   86987.0   \n",
      "\n",
      "                loan_advances  from_messages      other  \\\n",
      "FREVERT MARK A      2000000.0           21.0  7427621.0   \n",
      "\n",
      "                from_this_person_to_poi  director_fees  deferred_income  \\\n",
      "FREVERT MARK A                      6.0            NaN       -3367011.0   \n",
      "\n",
      "                long_term_incentive  from_poi_to_this_person  \n",
      "FREVERT MARK A            1617011.0                    242.0  \n",
      "Index([u'FREVERT MARK A'], dtype='object')\n"
     ]
    },
    {
     "data": {
      "image/png": "[encoded data removed]",
      "text/plain": [
       "<matplotlib.figure.Figure at 0x114692990>"
      ]
     },
     "metadata": {},
     "output_type": "display_data"
    }
   ],
   "source": [
    "outlier_plt(3)\n",
    "print_outlier(3,4000000)"
   ]
  },
  {
   "cell_type": "markdown",
   "metadata": {},
   "source": [
    "Well, good job, Mr. FREVERT MARK. We can't do anything"
   ]
  },
  {
   "cell_type": "code",
   "execution_count": 15,
   "metadata": {
    "collapsed": false
   },
   "outputs": [
    {
     "name": "stdout",
     "output_type": "stream",
     "text": [
      "               poi  salary  to_messages  deferral_payments  total_payments  \\\n",
      "BELFER ROBERT  0.0     NaN          NaN          -102500.0        102500.0   \n",
      "\n",
      "               exercised_stock_options  bonus  restricted_stock  \\\n",
      "BELFER ROBERT                   3285.0    NaN               NaN   \n",
      "\n",
      "               shared_receipt_with_poi  restricted_stock_deferred  \\\n",
      "BELFER ROBERT                      NaN                    44093.0   \n",
      "\n",
      "               total_stock_value  expenses  loan_advances  from_messages  \\\n",
      "BELFER ROBERT           -44093.0       NaN            NaN            NaN   \n",
      "\n",
      "               other  from_this_person_to_poi  director_fees  deferred_income  \\\n",
      "BELFER ROBERT    NaN                      NaN         3285.0              NaN   \n",
      "\n",
      "               long_term_incentive  from_poi_to_this_person  \n",
      "BELFER ROBERT                  NaN                      NaN  \n",
      "Index([u'BELFER ROBERT'], dtype='object')\n"
     ]
    }
   ],
   "source": [
    "print df[df['deferral_payments']<= 0]\n",
    "print df[df['deferral_payments']<= 0].index"
   ]
  },
  {
   "cell_type": "code",
   "execution_count": 16,
   "metadata": {
    "collapsed": false
   },
   "outputs": [
    {
     "name": "stdout",
     "output_type": "stream",
     "text": [
      "               poi     salary  to_messages  deferral_payments  total_payments  \\\n",
      "LAY KENNETH L  1.0  1072321.0       4273.0           202911.0     103559793.0   \n",
      "\n",
      "               exercised_stock_options      bonus  restricted_stock  \\\n",
      "LAY KENNETH L               34348384.0  7000000.0        14761694.0   \n",
      "\n",
      "               shared_receipt_with_poi  restricted_stock_deferred  \\\n",
      "LAY KENNETH L                   2411.0                        NaN   \n",
      "\n",
      "               total_stock_value  expenses  loan_advances  from_messages  \\\n",
      "LAY KENNETH L         49110078.0   99832.0     81525000.0           36.0   \n",
      "\n",
      "                    other  from_this_person_to_poi  director_fees  \\\n",
      "LAY KENNETH L  10359729.0                     16.0            NaN   \n",
      "\n",
      "               deferred_income  long_term_incentive  from_poi_to_this_person  \n",
      "LAY KENNETH L        -300000.0            3600000.0                    123.0  \n",
      "Index([u'LAY KENNETH L'], dtype='object')\n"
     ]
    },
    {
     "data": {
      "image/png": "[encoded data removed]",
      "text/plain": [
       "<matplotlib.figure.Figure at 0x114b182d0>"
      ]
     },
     "metadata": {},
     "output_type": "display_data"
    }
   ],
   "source": [
    "outlier_plt(4)\n",
    "print_outlier(4,0.2e8)"
   ]
  },
  {
   "cell_type": "code",
   "execution_count": 17,
   "metadata": {
    "collapsed": false
   },
   "outputs": [
    {
     "name": "stdout",
     "output_type": "stream",
     "text": [
      "                    poi     salary  to_messages  deferral_payments  \\\n",
      "HIRKO JOSEPH        1.0        NaN          NaN            10259.0   \n",
      "LAY KENNETH L       1.0  1072321.0       4273.0           202911.0   \n",
      "PAI LOU L           0.0   261879.0          NaN                NaN   \n",
      "RICE KENNETH D      1.0   420636.0        905.0                NaN   \n",
      "SKILLING JEFFREY K  1.0  1111258.0       3627.0                NaN   \n",
      "\n",
      "                    total_payments  exercised_stock_options      bonus  \\\n",
      "HIRKO JOSEPH               91093.0               30766064.0        NaN   \n",
      "LAY KENNETH L          103559793.0               34348384.0  7000000.0   \n",
      "PAI LOU L                3123383.0               15364167.0  1000000.0   \n",
      "RICE KENNETH D            505050.0               19794175.0  1750000.0   \n",
      "SKILLING JEFFREY K       8682716.0               19250000.0  5600000.0   \n",
      "\n",
      "                    restricted_stock  shared_receipt_with_poi  \\\n",
      "HIRKO JOSEPH                     NaN                      NaN   \n",
      "LAY KENNETH L             14761694.0                   2411.0   \n",
      "PAI LOU L                  8453763.0                      NaN   \n",
      "RICE KENNETH D             2748364.0                    864.0   \n",
      "SKILLING JEFFREY K         6843672.0                   2042.0   \n",
      "\n",
      "                    restricted_stock_deferred  total_stock_value  expenses  \\\n",
      "HIRKO JOSEPH                              NaN         30766064.0   77978.0   \n",
      "LAY KENNETH L                             NaN         49110078.0   99832.0   \n",
      "PAI LOU L                                 NaN         23817930.0   32047.0   \n",
      "RICE KENNETH D                            NaN         22542539.0   46950.0   \n",
      "SKILLING JEFFREY K                        NaN         26093672.0   29336.0   \n",
      "\n",
      "                    loan_advances  from_messages       other  \\\n",
      "HIRKO JOSEPH                  NaN            NaN      2856.0   \n",
      "LAY KENNETH L          81525000.0           36.0  10359729.0   \n",
      "PAI LOU L                     NaN            NaN   1829457.0   \n",
      "RICE KENNETH D                NaN           18.0    174839.0   \n",
      "SKILLING JEFFREY K            NaN          108.0     22122.0   \n",
      "\n",
      "                    from_this_person_to_poi  director_fees  deferred_income  \\\n",
      "HIRKO JOSEPH                            NaN            NaN              NaN   \n",
      "LAY KENNETH L                          16.0            NaN        -300000.0   \n",
      "PAI LOU L                               NaN            NaN              NaN   \n",
      "RICE KENNETH D                          4.0            NaN       -3504386.0   \n",
      "SKILLING JEFFREY K                     30.0            NaN              NaN   \n",
      "\n",
      "                    long_term_incentive  from_poi_to_this_person  \n",
      "HIRKO JOSEPH                        NaN                      NaN  \n",
      "LAY KENNETH L                 3600000.0                    123.0  \n",
      "PAI LOU L                           NaN                      NaN  \n",
      "RICE KENNETH D                1617011.0                     42.0  \n",
      "SKILLING JEFFREY K            1920000.0                     88.0  \n",
      "Index([u'HIRKO JOSEPH', u'LAY KENNETH L', u'PAI LOU L', u'RICE KENNETH D',\n",
      "       u'SKILLING JEFFREY K'],\n",
      "      dtype='object')\n"
     ]
    },
    {
     "data": {
      "image/png": "[encoded data removed]",
      "text/plain": [
       "<matplotlib.figure.Figure at 0x114d2ef90>"
      ]
     },
     "metadata": {},
     "output_type": "display_data"
    }
   ],
   "source": [
    "outlier_plt(5)\n",
    "print_outlier(5,1.5e7)"
   ]
  },
  {
   "cell_type": "code",
   "execution_count": 18,
   "metadata": {
    "collapsed": false
   },
   "outputs": [
    {
     "name": "stdout",
     "output_type": "stream",
     "text": [
      "                    poi     salary  to_messages  deferral_payments  \\\n",
      "BELDEN TIMOTHY N    1.0   213999.0       7991.0          2144013.0   \n",
      "LAVORATO JOHN J     0.0   339288.0       7259.0                NaN   \n",
      "LAY KENNETH L       1.0  1072321.0       4273.0           202911.0   \n",
      "SKILLING JEFFREY K  1.0  1111258.0       3627.0                NaN   \n",
      "\n",
      "                    total_payments  exercised_stock_options      bonus  \\\n",
      "BELDEN TIMOTHY N         5501630.0                 953136.0  5249999.0   \n",
      "LAVORATO JOHN J         10425757.0                4158995.0  8000000.0   \n",
      "LAY KENNETH L          103559793.0               34348384.0  7000000.0   \n",
      "SKILLING JEFFREY K       8682716.0               19250000.0  5600000.0   \n",
      "\n",
      "                    restricted_stock  shared_receipt_with_poi  \\\n",
      "BELDEN TIMOTHY N            157569.0                   5521.0   \n",
      "LAVORATO JOHN J            1008149.0                   3962.0   \n",
      "LAY KENNETH L             14761694.0                   2411.0   \n",
      "SKILLING JEFFREY K         6843672.0                   2042.0   \n",
      "\n",
      "                    restricted_stock_deferred  total_stock_value  expenses  \\\n",
      "BELDEN TIMOTHY N                          NaN          1110705.0   17355.0   \n",
      "LAVORATO JOHN J                           NaN          5167144.0   49537.0   \n",
      "LAY KENNETH L                             NaN         49110078.0   99832.0   \n",
      "SKILLING JEFFREY K                        NaN         26093672.0   29336.0   \n",
      "\n",
      "                    loan_advances  from_messages       other  \\\n",
      "BELDEN TIMOTHY N              NaN          484.0    210698.0   \n",
      "LAVORATO JOHN J               NaN         2585.0      1552.0   \n",
      "LAY KENNETH L          81525000.0           36.0  10359729.0   \n",
      "SKILLING JEFFREY K            NaN          108.0     22122.0   \n",
      "\n",
      "                    from_this_person_to_poi  director_fees  deferred_income  \\\n",
      "BELDEN TIMOTHY N                      108.0            NaN       -2334434.0   \n",
      "LAVORATO JOHN J                       411.0            NaN              NaN   \n",
      "LAY KENNETH L                          16.0            NaN        -300000.0   \n",
      "SKILLING JEFFREY K                     30.0            NaN              NaN   \n",
      "\n",
      "                    long_term_incentive  from_poi_to_this_person  \n",
      "BELDEN TIMOTHY N                    NaN                    228.0  \n",
      "LAVORATO JOHN J               2035380.0                    528.0  \n",
      "LAY KENNETH L                 3600000.0                    123.0  \n",
      "SKILLING JEFFREY K            1920000.0                     88.0  \n",
      "Index([u'BELDEN TIMOTHY N', u'LAVORATO JOHN J', u'LAY KENNETH L',\n",
      "       u'SKILLING JEFFREY K'],\n",
      "      dtype='object')\n"
     ]
    },
    {
     "data": {
      "image/png": "[encoded data removed]",
      "text/plain": [
       "<matplotlib.figure.Figure at 0x114ad5b90>"
      ]
     },
     "metadata": {},
     "output_type": "display_data"
    }
   ],
   "source": [
    "outlier_plt(6)\n",
    "print_outlier(6,5e6)"
   ]
  },
  {
   "cell_type": "code",
   "execution_count": 19,
   "metadata": {
    "collapsed": false
   },
   "outputs": [
    {
     "name": "stdout",
     "output_type": "stream",
     "text": [
      "                   poi     salary  to_messages  deferral_payments  \\\n",
      "LAY KENNETH L      1.0  1072321.0       4273.0           202911.0   \n",
      "WHITE JR THOMAS E  0.0   317543.0          NaN                NaN   \n",
      "\n",
      "                   total_payments  exercised_stock_options      bonus  \\\n",
      "LAY KENNETH L         103559793.0               34348384.0  7000000.0   \n",
      "WHITE JR THOMAS E       1934359.0                1297049.0   450000.0   \n",
      "\n",
      "                   restricted_stock  shared_receipt_with_poi  \\\n",
      "LAY KENNETH L            14761694.0                   2411.0   \n",
      "WHITE JR THOMAS E        13847074.0                      NaN   \n",
      "\n",
      "                   restricted_stock_deferred  total_stock_value  expenses  \\\n",
      "LAY KENNETH L                            NaN         49110078.0   99832.0   \n",
      "WHITE JR THOMAS E                        NaN         15144123.0   81353.0   \n",
      "\n",
      "                   loan_advances  from_messages       other  \\\n",
      "LAY KENNETH L         81525000.0           36.0  10359729.0   \n",
      "WHITE JR THOMAS E            NaN            NaN   1085463.0   \n",
      "\n",
      "                   from_this_person_to_poi  director_fees  deferred_income  \\\n",
      "LAY KENNETH L                         16.0            NaN        -300000.0   \n",
      "WHITE JR THOMAS E                      NaN            NaN              NaN   \n",
      "\n",
      "                   long_term_incentive  from_poi_to_this_person  \n",
      "LAY KENNETH L                3600000.0                    123.0  \n",
      "WHITE JR THOMAS E                  NaN                      NaN  \n",
      "Index([u'LAY KENNETH L', u'WHITE JR THOMAS E'], dtype='object')\n",
      "                  poi  salary  to_messages  deferral_payments  total_payments  \\\n",
      "BHATNAGAR SANJAY  0.0     NaN        523.0                NaN      15456290.0   \n",
      "\n",
      "                  exercised_stock_options  bonus  restricted_stock  \\\n",
      "BHATNAGAR SANJAY                2604490.0    NaN        -2604490.0   \n",
      "\n",
      "                  shared_receipt_with_poi  restricted_stock_deferred  \\\n",
      "BHATNAGAR SANJAY                    463.0                 15456290.0   \n",
      "\n",
      "                  total_stock_value  expenses  loan_advances  from_messages  \\\n",
      "BHATNAGAR SANJAY                NaN       NaN            NaN           29.0   \n",
      "\n",
      "                     other  from_this_person_to_poi  director_fees  \\\n",
      "BHATNAGAR SANJAY  137864.0                      1.0       137864.0   \n",
      "\n",
      "                  deferred_income  long_term_incentive  \\\n",
      "BHATNAGAR SANJAY              NaN                  NaN   \n",
      "\n",
      "                  from_poi_to_this_person  \n",
      "BHATNAGAR SANJAY                      0.0  \n",
      "Index([u'BHATNAGAR SANJAY'], dtype='object')\n"
     ]
    },
    {
     "data": {
      "image/png": "[encoded data removed]",
      "text/plain": [
       "<matplotlib.figure.Figure at 0x110fcfc90>"
      ]
     },
     "metadata": {},
     "output_type": "display_data"
    }
   ],
   "source": [
    "outlier_plt(7)\n",
    "print_outlier(7,1e7)\n",
    "print df[df['restricted_stock']<= 0]\n",
    "print df[df['restricted_stock']<= 0].index"
   ]
  },
  {
   "cell_type": "code",
   "execution_count": 20,
   "metadata": {
    "collapsed": false
   },
   "outputs": [
    {
     "data": {
      "text/html": [
       "<div>\n",
       "<table border=\"1\" class=\"dataframe\">\n",
       "  <thead>\n",
       "    <tr style=\"text-align: right;\">\n",
       "      <th></th>\n",
       "      <th>poi</th>\n",
       "      <th>salary</th>\n",
       "      <th>to_messages</th>\n",
       "      <th>deferral_payments</th>\n",
       "      <th>total_payments</th>\n",
       "      <th>exercised_stock_options</th>\n",
       "      <th>bonus</th>\n",
       "      <th>restricted_stock</th>\n",
       "      <th>shared_receipt_with_poi</th>\n",
       "      <th>restricted_stock_deferred</th>\n",
       "      <th>total_stock_value</th>\n",
       "      <th>expenses</th>\n",
       "      <th>loan_advances</th>\n",
       "      <th>from_messages</th>\n",
       "      <th>other</th>\n",
       "      <th>from_this_person_to_poi</th>\n",
       "      <th>director_fees</th>\n",
       "      <th>deferred_income</th>\n",
       "      <th>long_term_incentive</th>\n",
       "      <th>from_poi_to_this_person</th>\n",
       "    </tr>\n",
       "  </thead>\n",
       "  <tbody>\n",
       "    <tr>\n",
       "      <th>BHATNAGAR SANJAY</th>\n",
       "      <td>0.0</td>\n",
       "      <td>NaN</td>\n",
       "      <td>523.0</td>\n",
       "      <td>NaN</td>\n",
       "      <td>15456290.0</td>\n",
       "      <td>2604490.0</td>\n",
       "      <td>NaN</td>\n",
       "      <td>-2604490.0</td>\n",
       "      <td>463.0</td>\n",
       "      <td>15456290.0</td>\n",
       "      <td>NaN</td>\n",
       "      <td>NaN</td>\n",
       "      <td>NaN</td>\n",
       "      <td>29.0</td>\n",
       "      <td>137864.0</td>\n",
       "      <td>1.0</td>\n",
       "      <td>137864.0</td>\n",
       "      <td>NaN</td>\n",
       "      <td>NaN</td>\n",
       "      <td>0.0</td>\n",
       "    </tr>\n",
       "  </tbody>\n",
       "</table>\n",
       "</div>"
      ],
      "text/plain": [
       "                  poi  salary  to_messages  deferral_payments  total_payments  \\\n",
       "BHATNAGAR SANJAY  0.0     NaN        523.0                NaN      15456290.0   \n",
       "\n",
       "                  exercised_stock_options  bonus  restricted_stock  \\\n",
       "BHATNAGAR SANJAY                2604490.0    NaN        -2604490.0   \n",
       "\n",
       "                  shared_receipt_with_poi  restricted_stock_deferred  \\\n",
       "BHATNAGAR SANJAY                    463.0                 15456290.0   \n",
       "\n",
       "                  total_stock_value  expenses  loan_advances  from_messages  \\\n",
       "BHATNAGAR SANJAY                NaN       NaN            NaN           29.0   \n",
       "\n",
       "                     other  from_this_person_to_poi  director_fees  \\\n",
       "BHATNAGAR SANJAY  137864.0                      1.0       137864.0   \n",
       "\n",
       "                  deferred_income  long_term_incentive  \\\n",
       "BHATNAGAR SANJAY              NaN                  NaN   \n",
       "\n",
       "                  from_poi_to_this_person  \n",
       "BHATNAGAR SANJAY                      0.0  "
      ]
     },
     "execution_count": 20,
     "metadata": {},
     "output_type": "execute_result"
    }
   ],
   "source": [
    "df[df['restricted_stock']<= 0]"
   ]
  },
  {
   "cell_type": "code",
   "execution_count": 21,
   "metadata": {
    "collapsed": false
   },
   "outputs": [
    {
     "data": {
      "image/png": "[encoded data removed]",
      "text/plain": [
       "<matplotlib.figure.Figure at 0x114390110>"
      ]
     },
     "metadata": {},
     "output_type": "display_data"
    }
   ],
   "source": [
    "outlier_plt(8)\n",
    "#print_outlier(8,4000)"
   ]
  },
  {
   "cell_type": "code",
   "execution_count": 22,
   "metadata": {
    "collapsed": false
   },
   "outputs": [
    {
     "name": "stdout",
     "output_type": "stream",
     "text": [
      "                  poi  salary  to_messages  deferral_payments  total_payments  \\\n",
      "BHATNAGAR SANJAY  0.0     NaN        523.0                NaN      15456290.0   \n",
      "\n",
      "                  exercised_stock_options  bonus  restricted_stock  \\\n",
      "BHATNAGAR SANJAY                2604490.0    NaN        -2604490.0   \n",
      "\n",
      "                  shared_receipt_with_poi  restricted_stock_deferred  \\\n",
      "BHATNAGAR SANJAY                    463.0                 15456290.0   \n",
      "\n",
      "                  total_stock_value  expenses  loan_advances  from_messages  \\\n",
      "BHATNAGAR SANJAY                NaN       NaN            NaN           29.0   \n",
      "\n",
      "                     other  from_this_person_to_poi  director_fees  \\\n",
      "BHATNAGAR SANJAY  137864.0                      1.0       137864.0   \n",
      "\n",
      "                  deferred_income  long_term_incentive  \\\n",
      "BHATNAGAR SANJAY              NaN                  NaN   \n",
      "\n",
      "                  from_poi_to_this_person  \n",
      "BHATNAGAR SANJAY                      0.0  \n",
      "Index([u'BHATNAGAR SANJAY'], dtype='object')\n"
     ]
    },
    {
     "data": {
      "image/png": "[encoded data removed]",
      "text/plain": [
       "<matplotlib.figure.Figure at 0x1148d15d0>"
      ]
     },
     "metadata": {},
     "output_type": "display_data"
    }
   ],
   "source": [
    "outlier_plt(9)\n",
    "print_outlier(9,1.5e7)"
   ]
  },
  {
   "cell_type": "code",
   "execution_count": 23,
   "metadata": {
    "collapsed": false
   },
   "outputs": [
    {
     "name": "stdout",
     "output_type": "stream",
     "text": [
      "                    poi     salary  to_messages  deferral_payments  \\\n",
      "HIRKO JOSEPH        1.0        NaN          NaN            10259.0   \n",
      "LAY KENNETH L       1.0  1072321.0       4273.0           202911.0   \n",
      "PAI LOU L           0.0   261879.0          NaN                NaN   \n",
      "RICE KENNETH D      1.0   420636.0        905.0                NaN   \n",
      "SKILLING JEFFREY K  1.0  1111258.0       3627.0                NaN   \n",
      "\n",
      "                    total_payments  exercised_stock_options      bonus  \\\n",
      "HIRKO JOSEPH               91093.0               30766064.0        NaN   \n",
      "LAY KENNETH L          103559793.0               34348384.0  7000000.0   \n",
      "PAI LOU L                3123383.0               15364167.0  1000000.0   \n",
      "RICE KENNETH D            505050.0               19794175.0  1750000.0   \n",
      "SKILLING JEFFREY K       8682716.0               19250000.0  5600000.0   \n",
      "\n",
      "                    restricted_stock  shared_receipt_with_poi  \\\n",
      "HIRKO JOSEPH                     NaN                      NaN   \n",
      "LAY KENNETH L             14761694.0                   2411.0   \n",
      "PAI LOU L                  8453763.0                      NaN   \n",
      "RICE KENNETH D             2748364.0                    864.0   \n",
      "SKILLING JEFFREY K         6843672.0                   2042.0   \n",
      "\n",
      "                    restricted_stock_deferred  total_stock_value  expenses  \\\n",
      "HIRKO JOSEPH                              NaN         30766064.0   77978.0   \n",
      "LAY KENNETH L                             NaN         49110078.0   99832.0   \n",
      "PAI LOU L                                 NaN         23817930.0   32047.0   \n",
      "RICE KENNETH D                            NaN         22542539.0   46950.0   \n",
      "SKILLING JEFFREY K                        NaN         26093672.0   29336.0   \n",
      "\n",
      "                    loan_advances  from_messages       other  \\\n",
      "HIRKO JOSEPH                  NaN            NaN      2856.0   \n",
      "LAY KENNETH L          81525000.0           36.0  10359729.0   \n",
      "PAI LOU L                     NaN            NaN   1829457.0   \n",
      "RICE KENNETH D                NaN           18.0    174839.0   \n",
      "SKILLING JEFFREY K            NaN          108.0     22122.0   \n",
      "\n",
      "                    from_this_person_to_poi  director_fees  deferred_income  \\\n",
      "HIRKO JOSEPH                            NaN            NaN              NaN   \n",
      "LAY KENNETH L                          16.0            NaN        -300000.0   \n",
      "PAI LOU L                               NaN            NaN              NaN   \n",
      "RICE KENNETH D                          4.0            NaN       -3504386.0   \n",
      "SKILLING JEFFREY K                     30.0            NaN              NaN   \n",
      "\n",
      "                    long_term_incentive  from_poi_to_this_person  \n",
      "HIRKO JOSEPH                        NaN                      NaN  \n",
      "LAY KENNETH L                 3600000.0                    123.0  \n",
      "PAI LOU L                           NaN                      NaN  \n",
      "RICE KENNETH D                1617011.0                     42.0  \n",
      "SKILLING JEFFREY K            1920000.0                     88.0  \n",
      "Index([u'HIRKO JOSEPH', u'LAY KENNETH L', u'PAI LOU L', u'RICE KENNETH D',\n",
      "       u'SKILLING JEFFREY K'],\n",
      "      dtype='object')\n"
     ]
    },
    {
     "data": {
      "image/png": "[encoded data removed]",
      "text/plain": [
       "<matplotlib.figure.Figure at 0x1146cf990>"
      ]
     },
     "metadata": {},
     "output_type": "display_data"
    }
   ],
   "source": [
    "outlier_plt(10)\n",
    "print_outlier(10,2e7)"
   ]
  },
  {
   "cell_type": "code",
   "execution_count": 24,
   "metadata": {
    "collapsed": false
   },
   "outputs": [
    {
     "data": {
      "image/png": "[encoded data removed]",
      "text/plain": [
       "<matplotlib.figure.Figure at 0x11447e550>"
      ]
     },
     "metadata": {},
     "output_type": "display_data"
    }
   ],
   "source": [
    "outlier_plt(11)\n",
    "#print_outlier(11,200000)"
   ]
  },
  {
   "cell_type": "code",
   "execution_count": 25,
   "metadata": {
    "collapsed": false
   },
   "outputs": [
    {
     "name": "stdout",
     "output_type": "stream",
     "text": [
      "               poi     salary  to_messages  deferral_payments  total_payments  \\\n",
      "LAY KENNETH L  1.0  1072321.0       4273.0           202911.0     103559793.0   \n",
      "\n",
      "               exercised_stock_options      bonus  restricted_stock  \\\n",
      "LAY KENNETH L               34348384.0  7000000.0        14761694.0   \n",
      "\n",
      "               shared_receipt_with_poi  restricted_stock_deferred  \\\n",
      "LAY KENNETH L                   2411.0                        NaN   \n",
      "\n",
      "               total_stock_value  expenses  loan_advances  from_messages  \\\n",
      "LAY KENNETH L         49110078.0   99832.0     81525000.0           36.0   \n",
      "\n",
      "                    other  from_this_person_to_poi  director_fees  \\\n",
      "LAY KENNETH L  10359729.0                     16.0            NaN   \n",
      "\n",
      "               deferred_income  long_term_incentive  from_poi_to_this_person  \n",
      "LAY KENNETH L        -300000.0            3600000.0                    123.0  \n",
      "Index([u'LAY KENNETH L'], dtype='object')\n"
     ]
    },
    {
     "data": {
      "image/png": "[encoded data removed]",
      "text/plain": [
       "<matplotlib.figure.Figure at 0x11438b7d0>"
      ]
     },
     "metadata": {},
     "output_type": "display_data"
    }
   ],
   "source": [
    "outlier_plt(12)\n",
    "print_outlier(12,1e7)"
   ]
  },
  {
   "cell_type": "code",
   "execution_count": 26,
   "metadata": {
    "collapsed": false
   },
   "outputs": [
    {
     "name": "stdout",
     "output_type": "stream",
     "text": [
      "                     poi    salary  to_messages  deferral_payments  \\\n",
      "KAMINSKI WINCENTY J  0.0  275101.0       4607.0                NaN   \n",
      "\n",
      "                     total_payments  exercised_stock_options     bonus  \\\n",
      "KAMINSKI WINCENTY J       1086821.0                 850010.0  400000.0   \n",
      "\n",
      "                     restricted_stock  shared_receipt_with_poi  \\\n",
      "KAMINSKI WINCENTY J          126027.0                    583.0   \n",
      "\n",
      "                     restricted_stock_deferred  total_stock_value  expenses  \\\n",
      "KAMINSKI WINCENTY J                        NaN           976037.0   83585.0   \n",
      "\n",
      "                     loan_advances  from_messages   other  \\\n",
      "KAMINSKI WINCENTY J            NaN        14368.0  4669.0   \n",
      "\n",
      "                     from_this_person_to_poi  director_fees  deferred_income  \\\n",
      "KAMINSKI WINCENTY J                    171.0            NaN              NaN   \n",
      "\n",
      "                     long_term_incentive  from_poi_to_this_person  \n",
      "KAMINSKI WINCENTY J             323466.0                     41.0  \n",
      "Index([u'KAMINSKI WINCENTY J'], dtype='object')\n"
     ]
    },
    {
     "data": {
      "image/png": "[encoded data removed]",
      "text/plain": [
       "<matplotlib.figure.Figure at 0x114e13f50>"
      ]
     },
     "metadata": {},
     "output_type": "display_data"
    }
   ],
   "source": [
    "outlier_plt(13)\n",
    "print_outlier(13,12000)"
   ]
  },
  {
   "cell_type": "code",
   "execution_count": 27,
   "metadata": {
    "collapsed": false
   },
   "outputs": [
    {
     "name": "stdout",
     "output_type": "stream",
     "text": [
      "                poi     salary  to_messages  deferral_payments  \\\n",
      "FREVERT MARK A  0.0  1060932.0       3275.0          6426990.0   \n",
      "LAY KENNETH L   1.0  1072321.0       4273.0           202911.0   \n",
      "\n",
      "                total_payments  exercised_stock_options      bonus  \\\n",
      "FREVERT MARK A      17252530.0               10433518.0  2000000.0   \n",
      "LAY KENNETH L      103559793.0               34348384.0  7000000.0   \n",
      "\n",
      "                restricted_stock  shared_receipt_with_poi  \\\n",
      "FREVERT MARK A         4188667.0                   2979.0   \n",
      "LAY KENNETH L         14761694.0                   2411.0   \n",
      "\n",
      "                restricted_stock_deferred  total_stock_value  expenses  \\\n",
      "FREVERT MARK A                        NaN         14622185.0   86987.0   \n",
      "LAY KENNETH L                         NaN         49110078.0   99832.0   \n",
      "\n",
      "                loan_advances  from_messages       other  \\\n",
      "FREVERT MARK A      2000000.0           21.0   7427621.0   \n",
      "LAY KENNETH L      81525000.0           36.0  10359729.0   \n",
      "\n",
      "                from_this_person_to_poi  director_fees  deferred_income  \\\n",
      "FREVERT MARK A                      6.0            NaN       -3367011.0   \n",
      "LAY KENNETH L                      16.0            NaN        -300000.0   \n",
      "\n",
      "                long_term_incentive  from_poi_to_this_person  \n",
      "FREVERT MARK A            1617011.0                    242.0  \n",
      "LAY KENNETH L             3600000.0                    123.0  \n",
      "Index([u'FREVERT MARK A', u'LAY KENNETH L'], dtype='object')\n"
     ]
    },
    {
     "data": {
      "image/png": "[encoded data removed]",
      "text/plain": [
       "<matplotlib.figure.Figure at 0x114b946d0>"
      ]
     },
     "metadata": {},
     "output_type": "display_data"
    }
   ],
   "source": [
    "outlier_plt(14)\n",
    "print_outlier(14,0.6e7)"
   ]
  },
  {
   "cell_type": "code",
   "execution_count": 28,
   "metadata": {
    "collapsed": false
   },
   "outputs": [
    {
     "name": "stdout",
     "output_type": "stream",
     "text": [
      "                  poi    salary  to_messages  deferral_payments  \\\n",
      "BECK SALLY W      0.0  231330.0       7315.0                NaN   \n",
      "DELAINEY DAVID W  1.0  365163.0       3093.0                NaN   \n",
      "KEAN STEVEN J     0.0  404338.0      12754.0                NaN   \n",
      "LAVORATO JOHN J   0.0  339288.0       7259.0                NaN   \n",
      "\n",
      "                  total_payments  exercised_stock_options      bonus  \\\n",
      "BECK SALLY W            969068.0                      NaN   700000.0   \n",
      "DELAINEY DAVID W       4747979.0                2291113.0  3000000.0   \n",
      "KEAN STEVEN J          1747522.0                2022048.0  1000000.0   \n",
      "LAVORATO JOHN J       10425757.0                4158995.0  8000000.0   \n",
      "\n",
      "                  restricted_stock  shared_receipt_with_poi  \\\n",
      "BECK SALLY W              126027.0                   2639.0   \n",
      "DELAINEY DAVID W         1323148.0                   2097.0   \n",
      "KEAN STEVEN J            4131594.0                   3639.0   \n",
      "LAVORATO JOHN J          1008149.0                   3962.0   \n",
      "\n",
      "                  restricted_stock_deferred  total_stock_value  expenses  \\\n",
      "BECK SALLY W                            NaN           126027.0   37172.0   \n",
      "DELAINEY DAVID W                        NaN          3614261.0   86174.0   \n",
      "KEAN STEVEN J                           NaN          6153642.0   41953.0   \n",
      "LAVORATO JOHN J                         NaN          5167144.0   49537.0   \n",
      "\n",
      "                  loan_advances  from_messages   other  \\\n",
      "BECK SALLY W                NaN         4343.0   566.0   \n",
      "DELAINEY DAVID W            NaN         3069.0  1661.0   \n",
      "KEAN STEVEN J               NaN         6759.0  1231.0   \n",
      "LAVORATO JOHN J             NaN         2585.0  1552.0   \n",
      "\n",
      "                  from_this_person_to_poi  director_fees  deferred_income  \\\n",
      "BECK SALLY W                        386.0            NaN              NaN   \n",
      "DELAINEY DAVID W                    609.0            NaN              NaN   \n",
      "KEAN STEVEN J                       387.0            NaN              NaN   \n",
      "LAVORATO JOHN J                     411.0            NaN              NaN   \n",
      "\n",
      "                  long_term_incentive  from_poi_to_this_person  \n",
      "BECK SALLY W                      NaN                    144.0  \n",
      "DELAINEY DAVID W            1294981.0                     66.0  \n",
      "KEAN STEVEN J                300000.0                    140.0  \n",
      "LAVORATO JOHN J             2035380.0                    528.0  \n",
      "Index([u'BECK SALLY W', u'DELAINEY DAVID W', u'KEAN STEVEN J',\n",
      "       u'LAVORATO JOHN J'],\n",
      "      dtype='object')\n"
     ]
    },
    {
     "data": {
      "image/png": "[encoded data removed]",
      "text/plain": [
       "<matplotlib.figure.Figure at 0x1149977d0>"
      ]
     },
     "metadata": {},
     "output_type": "display_data"
    }
   ],
   "source": [
    "outlier_plt(15)\n",
    "print_outlier(15,300)"
   ]
  },
  {
   "cell_type": "code",
   "execution_count": 29,
   "metadata": {
    "collapsed": false
   },
   "outputs": [
    {
     "data": {
      "image/png": "[encoded data removed]",
      "text/plain": [
       "<matplotlib.figure.Figure at 0x1150b57d0>"
      ]
     },
     "metadata": {},
     "output_type": "display_data"
    }
   ],
   "source": [
    "outlier_plt(16)\n",
    "#print_outlier(16,1e7)"
   ]
  },
  {
   "cell_type": "code",
   "execution_count": 30,
   "metadata": {
    "collapsed": false
   },
   "outputs": [
    {
     "data": {
      "image/png": "[encoded data removed]",
      "text/plain": [
       "<matplotlib.figure.Figure at 0x114b45250>"
      ]
     },
     "metadata": {},
     "output_type": "display_data"
    }
   ],
   "source": [
    "outlier_plt(17)\n",
    "#print_outlier(7,1e7)"
   ]
  },
  {
   "cell_type": "code",
   "execution_count": 31,
   "metadata": {
    "collapsed": false
   },
   "outputs": [
    {
     "name": "stdout",
     "output_type": "stream",
     "text": [
      "                 poi     salary  to_messages  deferral_payments  \\\n",
      "LAY KENNETH L    1.0  1072321.0       4273.0           202911.0   \n",
      "MARTIN AMANDA K  0.0   349487.0       1522.0            85430.0   \n",
      "\n",
      "                 total_payments  exercised_stock_options      bonus  \\\n",
      "LAY KENNETH L       103559793.0               34348384.0  7000000.0   \n",
      "MARTIN AMANDA K       8407016.0                2070306.0        NaN   \n",
      "\n",
      "                 restricted_stock  shared_receipt_with_poi  \\\n",
      "LAY KENNETH L          14761694.0                   2411.0   \n",
      "MARTIN AMANDA K               NaN                    477.0   \n",
      "\n",
      "                 restricted_stock_deferred  total_stock_value  expenses  \\\n",
      "LAY KENNETH L                          NaN         49110078.0   99832.0   \n",
      "MARTIN AMANDA K                        NaN          2070306.0    8211.0   \n",
      "\n",
      "                 loan_advances  from_messages       other  \\\n",
      "LAY KENNETH L       81525000.0           36.0  10359729.0   \n",
      "MARTIN AMANDA K            NaN          230.0   2818454.0   \n",
      "\n",
      "                 from_this_person_to_poi  director_fees  deferred_income  \\\n",
      "LAY KENNETH L                       16.0            NaN        -300000.0   \n",
      "MARTIN AMANDA K                      0.0            NaN              NaN   \n",
      "\n",
      "                 long_term_incentive  from_poi_to_this_person  \n",
      "LAY KENNETH L              3600000.0                    123.0  \n",
      "MARTIN AMANDA K            5145434.0                      8.0  \n",
      "Index([u'LAY KENNETH L', u'MARTIN AMANDA K'], dtype='object')\n"
     ]
    },
    {
     "data": {
      "image/png": "[encoded data removed]",
      "text/plain": [
       "<matplotlib.figure.Figure at 0x114992650>"
      ]
     },
     "metadata": {},
     "output_type": "display_data"
    }
   ],
   "source": [
    "outlier_plt(18)\n",
    "print_outlier(18,3000000)"
   ]
  },
  {
   "cell_type": "code",
   "execution_count": 32,
   "metadata": {
    "collapsed": false
   },
   "outputs": [
    {
     "name": "stdout",
     "output_type": "stream",
     "text": [
      "                 poi    salary  to_messages  deferral_payments  \\\n",
      "LAVORATO JOHN J  0.0  339288.0       7259.0                NaN   \n",
      "\n",
      "                 total_payments  exercised_stock_options      bonus  \\\n",
      "LAVORATO JOHN J      10425757.0                4158995.0  8000000.0   \n",
      "\n",
      "                 restricted_stock  shared_receipt_with_poi  \\\n",
      "LAVORATO JOHN J         1008149.0                   3962.0   \n",
      "\n",
      "                 restricted_stock_deferred  total_stock_value  expenses  \\\n",
      "LAVORATO JOHN J                        NaN          5167144.0   49537.0   \n",
      "\n",
      "                 loan_advances  from_messages   other  \\\n",
      "LAVORATO JOHN J            NaN         2585.0  1552.0   \n",
      "\n",
      "                 from_this_person_to_poi  director_fees  deferred_income  \\\n",
      "LAVORATO JOHN J                    411.0            NaN              NaN   \n",
      "\n",
      "                 long_term_incentive  from_poi_to_this_person  \n",
      "LAVORATO JOHN J            2035380.0                    528.0  \n",
      "Index([u'LAVORATO JOHN J'], dtype='object')\n"
     ]
    },
    {
     "data": {
      "image/png": "[encoded data removed]",
      "text/plain": [
       "<matplotlib.figure.Figure at 0x114b69590>"
      ]
     },
     "metadata": {},
     "output_type": "display_data"
    }
   ],
   "source": [
    "outlier_plt(19)\n",
    "print_outlier(19,500)"
   ]
  },
  {
   "cell_type": "markdown",
   "metadata": {},
   "source": [
    "** Outlier summary**\n",
    "\n",
    "In total we found three outliers here in this dataset. By skimming the dataset we can see that \"THE TRAVEL AGENCY IN THE PARK\" and \"LOCKHART EUGENE E\" are the fake data. So we need to delete these two rows. Another outlier \"TOTAL\" was found by visualizing the data. This is the total amount of the other data, which shall also be omitted.\n",
    "\n",
    "During the exploratory analysis, we also notice some values are way much higher than the other. For these cases, there are still reasonable data because some of them already indicate the poi, or some individuals have higher emails because of their positions.  "
   ]
  },
  {
   "cell_type": "markdown",
   "metadata": {
    "deletable": true,
    "editable": true
   },
   "source": [
    "### 3: Create new feature(s)"
   ]
  },
  {
   "cell_type": "code",
   "execution_count": 33,
   "metadata": {
    "collapsed": false
   },
   "outputs": [],
   "source": [
    "# Add new features\n",
    "# \"to_poi_ratio\" is the ratio of the from_this_person_to_poi/from_messages, \n",
    "# indicating that the ratio of this person recieving from the pois among all the messages \n",
    "# \"from_poi_ratio\" is the ratio of the from_poi_to_this_person/to_messages,\n",
    "# indicating that the ratio of this person sending from the pois among all the messages \n",
    "\n",
    "features_list.append(\"to_poi_ratio\")\n",
    "features_list.append(\"from_poi_ratio\")\n",
    "\n",
    "df['to_poi_ratio'] = df['from_this_person_to_poi']/df['from_messages']\n",
    "df['from_poi_ratio'] = df['from_poi_to_this_person']/df['to_messages']\n",
    "df = df.fillna(0)"
   ]
  },
  {
   "cell_type": "code",
   "execution_count": 34,
   "metadata": {
    "collapsed": false
   },
   "outputs": [
    {
     "name": "stdout",
     "output_type": "stream",
     "text": [
      "There are in total 143 person\n",
      "For each person there are 22 features after deleting one feature: email address\n",
      "Among which there are 18 POIs\n"
     ]
    }
   ],
   "source": [
    "print \"There are in total %d person\" % df.shape[0]\n",
    "print \"For each person there are %d features after deleting one feature: email address\" % df.shape[1]\n",
    "print \"Among which there are %d POIs\" % df['poi'].sum()"
   ]
  },
  {
   "cell_type": "code",
   "execution_count": 35,
   "metadata": {
    "collapsed": false
   },
   "outputs": [],
   "source": [
    "labels = df['poi']\n",
    "features = df.drop('poi', 1)"
   ]
  },
  {
   "cell_type": "markdown",
   "metadata": {},
   "source": [
    "Use scatter plot for different features to see if there are direct relationships and/or obvious decision boundary between each features"
   ]
  },
  {
   "cell_type": "code",
   "execution_count": 36,
   "metadata": {
    "collapsed": false
   },
   "outputs": [
    {
     "name": "stdout",
     "output_type": "stream",
     "text": [
      "['poi', 'salary', 'to_messages', 'deferral_payments', 'total_payments', 'exercised_stock_options', 'bonus', 'restricted_stock', 'shared_receipt_with_poi', 'restricted_stock_deferred', 'total_stock_value', 'expenses', 'loan_advances', 'from_messages', 'other', 'from_this_person_to_poi', 'director_fees', 'deferred_income', 'long_term_incentive', 'from_poi_to_this_person', 'to_poi_ratio', 'from_poi_ratio']\n"
     ]
    }
   ],
   "source": [
    "print features_list"
   ]
  },
  {
   "cell_type": "code",
   "execution_count": 37,
   "metadata": {
    "collapsed": false
   },
   "outputs": [
    {
     "data": {
      "text/plain": [
       "<matplotlib.collections.PathCollection at 0x11472ba10>"
      ]
     },
     "execution_count": 37,
     "metadata": {},
     "output_type": "execute_result"
    },
    {
     "data": {
      "image/png": "[encoded data removed]",
      "text/plain": [
       "<matplotlib.figure.Figure at 0x1147c2390>"
      ]
     },
     "metadata": {},
     "output_type": "display_data"
    }
   ],
   "source": [
    "colors = np.where(df.poi ==0, 'r', 'b')\n",
    "plt.scatter(df.salary, df.poi, color = colors)"
   ]
  },
  {
   "cell_type": "markdown",
   "metadata": {
    "deletable": true,
    "editable": true
   },
   "source": [
    "### Task 4: Try a varity of classifiers"
   ]
  },
  {
   "cell_type": "markdown",
   "metadata": {},
   "source": [
    "**Cross validation**\n",
    "- Split the dataset into train and test data. 70% of the data will be used for training, the rest 30% will be used for testing.\n",
    "- Use random_state(default = 42) to get same sampling, which will be helpful to analyze the algorithm."
   ]
  },
  {
   "cell_type": "code",
   "execution_count": 38,
   "metadata": {
    "collapsed": false
   },
   "outputs": [
    {
     "name": "stderr",
     "output_type": "stream",
     "text": [
      "/Users/xuemingli/anaconda/lib/python2.7/site-packages/sklearn/cross_validation.py:44: DeprecationWarning: This module was deprecated in version 0.18 in favor of the model_selection module into which all the refactored classes and functions are moved. Also note that the interface of the new CV iterators are different from that of this module. This module will be removed in 0.20.\n",
      "  \"This module will be removed in 0.20.\", DeprecationWarning)\n"
     ]
    }
   ],
   "source": [
    "from sklearn.cross_validation import train_test_split\n",
    "features_train, features_test, labels_train, labels_test = \\\n",
    "    train_test_split(features, labels, test_size=0.3, random_state=42)"
   ]
  },
  {
   "cell_type": "markdown",
   "metadata": {},
   "source": [
    "**Select K Best features**\n",
    "\n",
    "- SelectKBest removes all but the k highest scoring features\n",
    "- f_classif: Compute the ANOVA F-value for the provided sample."
   ]
  },
  {
   "cell_type": "code",
   "execution_count": 39,
   "metadata": {
    "collapsed": false
   },
   "outputs": [],
   "source": [
    "from sklearn.feature_selection import SelectKBest\n",
    "from sklearn.feature_selection import f_classif\n",
    "\n",
    "skb = SelectKBest(f_classif)"
   ]
  },
  {
   "cell_type": "markdown",
   "metadata": {},
   "source": [
    "** Pipeline **\n",
    "\n",
    "The purpose of the pipeline is to assemble several steps that can be cross-validated together while setting different parameters."
   ]
  },
  {
   "cell_type": "code",
   "execution_count": 40,
   "metadata": {
    "collapsed": false
   },
   "outputs": [
    {
     "name": "stderr",
     "output_type": "stream",
     "text": [
      "/Users/xuemingli/anaconda/lib/python2.7/site-packages/sklearn/grid_search.py:43: DeprecationWarning: This module was deprecated in version 0.18 in favor of the model_selection module into which all the refactored classes and functions are moved. This module will be removed in 0.20.\n",
      "  DeprecationWarning)\n"
     ]
    }
   ],
   "source": [
    "from sklearn.pipeline import Pipeline\n",
    "from sklearn.naive_bayes import GaussianNB\n",
    "from sklearn.grid_search import GridSearchCV\n",
    "\n",
    "pipeline =  Pipeline(steps=[(\"SKB\", skb), (\"NaiveBayes\", GaussianNB())])"
   ]
  },
  {
   "cell_type": "markdown",
   "metadata": {},
   "source": [
    "** GridSearchCV**\n",
    "\n",
    "- GridSearchCV implements a “fit” and a “score” method. It also implements “predict”, “predict_proba”, “decision_function”, “transform” and “inverse_transform” if they are implemented in the estimator used.\n",
    "- The parameters of the estimator used to apply these methods are optimized by cross-validated grid-search over a parameter grid."
   ]
  },
  {
   "cell_type": "code",
   "execution_count": 41,
   "metadata": {
    "collapsed": false,
    "deletable": true,
    "editable": true
   },
   "outputs": [],
   "source": [
    "from sklearn.grid_search import GridSearchCV\n",
    "params_skb = {'SKB__k': [5,7,13,17]} # Use pipeline to search for the best amount of features\n",
    "clf = GridSearchCV(pipeline, param_grid = params_skb, scoring = 'f1')\n",
    "clf.fit(features_train, labels_train)\n",
    "pred = clf.predict(features_test)"
   ]
  },
  {
   "cell_type": "markdown",
   "metadata": {},
   "source": [
    "After fitting the classifier, select \"K Best\" scores of the feautrues."
   ]
  },
  {
   "cell_type": "code",
   "execution_count": 42,
   "metadata": {
    "collapsed": false
   },
   "outputs": [
    {
     "name": "stdout",
     "output_type": "stream",
     "text": [
      "The Features Selected:\n",
      "['salary', 'total_payments', 'exercised_stock_options', 'bonus', 'shared_receipt_with_poi', 'total_stock_value', 'to_poi_ratio']\n",
      "The best estimator:\n",
      "Pipeline(steps=[('SKB', SelectKBest(k=7, score_func=<function f_classif at 0x111040938>)), ('NaiveBayes', GaussianNB(priors=None))])\n"
     ]
    }
   ],
   "source": [
    "# here we use i+1 becuase the first feature in the list is poi, which shall not be included in the fitting.\n",
    "features_selected = [features_list[i+1] for i in clf.best_estimator_.named_steps['SKB'].get_support(indices=True)]\n",
    "print 'The Features Selected:'\n",
    "print features_selected\n",
    "\n",
    "print \"The best estimator:\"\n",
    "print clf.best_estimator_"
   ]
  },
  {
   "cell_type": "code",
   "execution_count": 43,
   "metadata": {
    "collapsed": false,
    "deletable": true,
    "editable": true
   },
   "outputs": [
    {
     "name": "stdout",
     "output_type": "stream",
     "text": [
      "[ 18.28968404   1.64634113   0.22461127   8.77277773  24.81507973\n",
      "  20.79225205   9.21281062   8.58942073   0.06549965  24.18289868\n",
      "   6.09417331   7.18405566   0.16970095   4.18747751   2.38261211\n",
      "   2.1263278   11.45847658   9.92218601   5.24344971  16.40971255\n",
      "   3.12809175]\n"
     ]
    }
   ],
   "source": [
    "features_scores = SelectKBest(k=12).fit(features, labels)\n",
    "print features_scores.scores_"
   ]
  },
  {
   "cell_type": "code",
   "execution_count": 44,
   "metadata": {
    "collapsed": false
   },
   "outputs": [
    {
     "data": {
      "image/png": "[encoded data removed]",
      "text/plain": [
       "<matplotlib.figure.Figure at 0x11469b610>"
      ]
     },
     "metadata": {},
     "output_type": "display_data"
    },
    {
     "data": {
      "text/plain": [
       "['salary',\n",
       " 'exercised_stock_options',\n",
       " 'bonus',\n",
       " 'total_stock_value',\n",
       " 'to_poi_ratio']"
      ]
     },
     "execution_count": 44,
     "metadata": {},
     "output_type": "execute_result"
    }
   ],
   "source": [
    "features_k = []\n",
    "plt.figure()\n",
    "#COLORS = 'bgrcmyk'\n",
    "#colors = ['r' if feature>10 else 'b' for feature in features_k.scores_]\n",
    "for i, feature in enumerate(features_scores.scores_):\n",
    "    plt.bar(i, feature, color = ['r' if feature>15 else 'b']) \n",
    "    if feature >15:\n",
    "        features_k.append(features_list[i+1])\n",
    "plt.show()\n",
    "features_k"
   ]
  },
  {
   "cell_type": "markdown",
   "metadata": {},
   "source": [
    "There are 5 features with high scores, while the others are much lower. So we can choose k=5\n",
    "\n",
    "In order to see how much KBest helps to optimize the results, hereby I used Naive Bayes without KBest."
   ]
  },
  {
   "cell_type": "code",
   "execution_count": 45,
   "metadata": {
    "collapsed": false,
    "scrolled": false
   },
   "outputs": [],
   "source": [
    "features_train_k =pd.DataFrame()\n",
    "features_test_k =pd.DataFrame()\n",
    "for feature in features_k:\n",
    "    features_train_k[feature] = features_train[feature]\n",
    "    features_test_k[feature] = features_test[feature]\n"
   ]
  },
  {
   "cell_type": "code",
   "execution_count": 46,
   "metadata": {
    "collapsed": true
   },
   "outputs": [],
   "source": [
    "clf_0 = GaussianNB()\n",
    "clf_0.fit(features_train, labels_train)\n",
    "pred_0 = clf_0.predict(features_test)"
   ]
  },
  {
   "cell_type": "code",
   "execution_count": 47,
   "metadata": {
    "collapsed": false
   },
   "outputs": [
    {
     "name": "stdout",
     "output_type": "stream",
     "text": [
      "Accuracy before KBest: 0.883720930233\n",
      "Precision before KBest: 0.48488372093\n",
      "Recall before KBest: 0.4\n",
      "\n",
      "\n"
     ]
    }
   ],
   "source": [
    "from sklearn.metrics import recall_score\n",
    "from sklearn.metrics import average_precision_score\n",
    "from sklearn.metrics import accuracy_score\n",
    "\n",
    "rec_sc_0 = recall_score(labels_test, pred_0)\n",
    "pre_sc_0 = average_precision_score(labels_test, pred_0)\n",
    "acc_0 = accuracy_score(pred_0, labels_test)\n",
    "print \"Accuracy before KBest:\", acc_0\n",
    "print \"Precision before KBest:\", pre_sc_0\n",
    "print \"Recall before KBest:\", rec_sc_0\n",
    "print \"\\n\""
   ]
  },
  {
   "cell_type": "code",
   "execution_count": 48,
   "metadata": {
    "collapsed": true
   },
   "outputs": [],
   "source": [
    "clf_0 = GaussianNB()\n",
    "clf_0.fit(features_train_k, labels_train)\n",
    "pred_0 = clf_0.predict(features_test_k)"
   ]
  },
  {
   "cell_type": "code",
   "execution_count": 49,
   "metadata": {
    "collapsed": false
   },
   "outputs": [
    {
     "name": "stdout",
     "output_type": "stream",
     "text": [
      "Accuracy before KBest: 0.906976744186\n",
      "Precision before KBest: 0.623255813953\n",
      "Recall before KBest: 0.6\n",
      "\n",
      "\n"
     ]
    }
   ],
   "source": [
    "from sklearn.metrics import recall_score\n",
    "from sklearn.metrics import average_precision_score\n",
    "from sklearn.metrics import accuracy_score\n",
    "\n",
    "rec_sc_0 = recall_score(labels_test, pred_0)\n",
    "pre_sc_0 = average_precision_score(labels_test, pred_0)\n",
    "acc_0 = accuracy_score(pred_0, labels_test)\n",
    "print \"Accuracy before KBest:\", acc_0\n",
    "print \"Precision before KBest:\", pre_sc_0\n",
    "print \"Recall before KBest:\", rec_sc_0\n",
    "print \"\\n\""
   ]
  },
  {
   "cell_type": "markdown",
   "metadata": {},
   "source": [
    "As shown in the results, the accuracy didn't change, but the other two evaluation metrics get improved after using KBest. "
   ]
  },
  {
   "cell_type": "code",
   "execution_count": 61,
   "metadata": {
    "collapsed": true
   },
   "outputs": [],
   "source": [
    "# Using KNN without tuning the parameters\n",
    "clf = KNeighborsClassifier()\n",
    "clf.fit(features_train, labels_train)\n",
    "pred = clf.predict(features_test)"
   ]
  },
  {
   "cell_type": "code",
   "execution_count": 62,
   "metadata": {
    "collapsed": false
   },
   "outputs": [
    {
     "name": "stdout",
     "output_type": "stream",
     "text": [
      "Accuracy after KBest: 0.883720930233\n",
      "Precision after KBest: 0.558139534884\n",
      "Recall after KBest: 0.0\n"
     ]
    }
   ],
   "source": [
    "rec_sc = recall_score(labels_test, pred)\n",
    "pre_sc = average_precision_score(labels_test, pred)\n",
    "acc = accuracy_score(pred, labels_test)\n",
    "print \"Accuracy after KBest:\", acc\n",
    "print \"Precision after KBest:\", pre_sc\n",
    "print \"Recall after KBest:\", rec_sc"
   ]
  },
  {
   "cell_type": "code",
   "execution_count": 63,
   "metadata": {
    "collapsed": false
   },
   "outputs": [
    {
     "name": "stdout",
     "output_type": "stream",
     "text": [
      "KNeighborsClassifier(algorithm='auto', leaf_size=1, metric='minkowski',\n",
      "           metric_params=None, n_jobs=1, n_neighbors=3, p=2,\n",
      "           weights='distance')\n"
     ]
    }
   ],
   "source": [
    "# Using GridSearchCV for KNN\n",
    "from sklearn.neighbors import KNeighborsClassifier\n",
    "knn = KNeighborsClassifier()\n",
    "parameters = {'n_neighbors':[1,3,5,7],'leaf_size':[1, 3, 5, 10, 30,50], 'algorithm':['auto', 'ball_tree', 'kd_tree', 'brute'], 'weights' : ['uniform', 'distance']}\n",
    "clf = GridSearchCV(knn,parameters, scoring = 'f1')\n",
    "clf.fit(features_train_k, labels_train)\n",
    "pred = clf.predict(features_test_k)\n",
    "print clf.best_estimator_"
   ]
  },
  {
   "cell_type": "code",
   "execution_count": 64,
   "metadata": {
    "collapsed": false
   },
   "outputs": [
    {
     "name": "stdout",
     "output_type": "stream",
     "text": [
      "Accuracy after tuning: 0.860465116279\n",
      "Precision after tuning: 0.313178294574\n",
      "Recall after tuning: 0.2\n"
     ]
    }
   ],
   "source": [
    "rec_sc = recall_score(labels_test, pred)\n",
    "pre_sc = average_precision_score(labels_test, pred)\n",
    "acc = accuracy_score(pred, labels_test)\n",
    "print \"Accuracy after tuning:\", acc\n",
    "print \"Precision after tuning:\", pre_sc\n",
    "print \"Recall after tuning:\", rec_sc"
   ]
  },
  {
   "cell_type": "code",
   "execution_count": 65,
   "metadata": {
    "collapsed": false
   },
   "outputs": [
    {
     "name": "stdout",
     "output_type": "stream",
     "text": [
      "Accuracy before tuning: 0.860465116279\n",
      "Precision before tuning: 0.43488372093\n",
      "Recall before tuning: 0.4\n"
     ]
    }
   ],
   "source": [
    "#Using DecisionTreeClassifier without tuning the parameters\n",
    "from sklearn.tree import DecisionTreeClassifier\n",
    "clf = DecisionTreeClassifier()\n",
    "clf.fit(features_train_k, labels_train)\n",
    "pred = clf.predict(features_test_k)\n",
    "rec_sc = recall_score(labels_test, pred)\n",
    "pre_sc = average_precision_score(labels_test, pred)\n",
    "acc = accuracy_score(pred, labels_test)\n",
    "print \"Accuracy before tuning:\", acc\n",
    "print \"Precision before tuning:\", pre_sc\n",
    "print \"Recall before tuning:\", rec_sc"
   ]
  },
  {
   "cell_type": "code",
   "execution_count": 65,
   "metadata": {
    "collapsed": false
   },
   "outputs": [
    {
     "name": "stdout",
     "output_type": "stream",
     "text": [
      "Accuracy before tuning: 0.860465116279\n",
      "Precision before tuning: 0.43488372093\n",
      "Recall before tuning: 0.4\n"
     ]
    }
   ],
   "source": [
    "#Using DecisionTreeClassifier after tuning the parameters\n",
    "from sklearn.tree import DecisionTreeClassifier\n",
    "dt = DecisionTreeClassifier()\n",
    "\n",
    "parameters = {'n_neighbors':[1,3,5,7],'leaf_size':[1, 3, 5, 10, 30,50], 'algorithm':['auto', 'ball_tree', 'kd_tree', 'brute'], 'weights' : ['uniform', 'distance']}\n",
    "clf = GridSearchCV(dt,parameters, scoring = 'f1')\n",
    "\n",
    "\n",
    "clf.fit(features_train_k, labels_train)\n",
    "pred = clf.predict(features_test_k)\n",
    "rec_sc = recall_score(labels_test, pred)\n",
    "pre_sc = average_precision_score(labels_test, pred)\n",
    "acc = accuracy_score(pred, labels_test)\n",
    "print \"Accuracy before tuning:\", acc\n",
    "print \"Precision before tuning:\", pre_sc\n",
    "print \"Recall before tuning:\", rec_sc"
   ]
  },
  {
   "cell_type": "markdown",
   "metadata": {
    "deletable": true,
    "editable": true
   },
   "source": [
    "### 5: Dump the classifier, dataset, and features_list \n"
   ]
  },
  {
   "cell_type": "code",
   "execution_count": 62,
   "metadata": {
    "collapsed": false,
    "deletable": true,
    "editable": true
   },
   "outputs": [],
   "source": [
    "from tester import dump_classifier_and_data\n",
    "dump_classifier_and_data(clf, df, features_list)"
   ]
  },
  {
   "cell_type": "code",
   "execution_count": null,
   "metadata": {
    "collapsed": true
   },
   "outputs": [],
   "source": []
  }
 ],
 "metadata": {
  "anaconda-cloud": {},
  "kernelspec": {
   "display_name": "Python [default]",
   "language": "python",
   "name": "python2"
  },
  "language_info": {
   "codemirror_mode": {
    "name": "ipython",
    "version": 2
   },
   "file_extension": ".py",
   "mimetype": "text/x-python",
   "name": "python",
   "nbconvert_exporter": "python",
   "pygments_lexer": "ipython2",
   "version": "2.7.13"
  }
 },
 "nbformat": 4,
 "nbformat_minor": 0
}
